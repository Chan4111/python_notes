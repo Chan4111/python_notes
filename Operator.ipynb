{
 "cells": [
  {
   "cell_type": "markdown",
   "id": "3ad097e3-45ba-4a83-9854-4629e710ab26",
   "metadata": {},
   "source": [
    "operators in python"
   ]
  },
  {
   "cell_type": "markdown",
   "id": "e15bc84a-ce9a-4e10-84e1-86227cb0062d",
   "metadata": {},
   "source": [
    "# Arthematic operator"
   ]
  },
  {
   "cell_type": "markdown",
   "id": "67d06a61-9f45-4150-801c-6358e769b10d",
   "metadata": {},
   "source": [
    "### Addtion operation b/w operand"
   ]
  },
  {
   "cell_type": "code",
   "execution_count": 1,
   "id": "676a78a1-507d-4791-a818-bfd613b3d0a2",
   "metadata": {},
   "outputs": [
    {
     "name": "stdout",
     "output_type": "stream",
     "text": [
      "99\n"
     ]
    }
   ],
   "source": [
    "a=45\n",
    "b=54\n",
    "print(a+b)"
   ]
  },
  {
   "cell_type": "code",
   "execution_count": 2,
   "id": "1794c489-db84-44ab-8546-4117a6b3fb42",
   "metadata": {},
   "outputs": [
    {
     "name": "stdout",
     "output_type": "stream",
     "text": [
      "59.9\n"
     ]
    }
   ],
   "source": [
    "a=5.3\n",
    "b=54.6\n",
    "print(a+b)"
   ]
  },
  {
   "cell_type": "code",
   "execution_count": 3,
   "id": "16e1576b-c1f8-4385-a8bf-59ac52cc14b9",
   "metadata": {},
   "outputs": [
    {
     "name": "stdout",
     "output_type": "stream",
     "text": [
      "chandansatyam\n"
     ]
    }
   ],
   "source": [
    "a1=\"chandan\"\n",
    "b1=\"satyam\"\n",
    "print(a1+b1)"
   ]
  },
  {
   "cell_type": "code",
   "execution_count": 4,
   "id": "bec91617-9def-4627-aa17-ac8ca6e5b0a1",
   "metadata": {},
   "outputs": [
    {
     "name": "stdout",
     "output_type": "stream",
     "text": [
      "chandan satyam\n"
     ]
    }
   ],
   "source": [
    "a1=\"chandan\"\n",
    "b1=\"satyam\"\n",
    "print(a1+\" \"+b1)"
   ]
  },
  {
   "cell_type": "code",
   "execution_count": 5,
   "id": "bdd14865-90d9-4784-8625-ffad8f463421",
   "metadata": {},
   "outputs": [
    {
     "name": "stdout",
     "output_type": "stream",
     "text": [
      "(8+13j)\n"
     ]
    }
   ],
   "source": [
    "x1=2+6J\n",
    "y1=6+7J\n",
    "print(x1+y1)"
   ]
  },
  {
   "cell_type": "code",
   "execution_count": 6,
   "id": "3d1499cb-843d-49f0-bbce-513f493fbc65",
   "metadata": {},
   "outputs": [
    {
     "name": "stdout",
     "output_type": "stream",
     "text": [
      "-14\n"
     ]
    }
   ],
   "source": [
    "w1=-6\n",
    "w2=-8\n",
    "print(w1+w2)"
   ]
  },
  {
   "cell_type": "markdown",
   "id": "150e9a1f-4fce-42f2-8104-89925befbd85",
   "metadata": {},
   "source": [
    "### Subtraction b/w two operand"
   ]
  },
  {
   "cell_type": "code",
   "execution_count": 8,
   "id": "be5cce32-8e38-4255-812d-3cbe66c30cfa",
   "metadata": {},
   "outputs": [
    {
     "name": "stdout",
     "output_type": "stream",
     "text": [
      "4\n"
     ]
    }
   ],
   "source": [
    "num1=8\n",
    "num2=4\n",
    "print(num1-num2)"
   ]
  },
  {
   "cell_type": "code",
   "execution_count": 9,
   "id": "2b36c859-3c79-48f2-87b3-89621713231e",
   "metadata": {},
   "outputs": [
    {
     "name": "stdout",
     "output_type": "stream",
     "text": [
      "-92.94999999999999\n"
     ]
    }
   ],
   "source": [
    "a4=5.65\n",
    "a5=98.6\n",
    "print(a4-a5)"
   ]
  },
  {
   "cell_type": "code",
   "execution_count": 10,
   "id": "ffd3fa90-275b-4fa7-8ac8-f28ab2dc7fcb",
   "metadata": {},
   "outputs": [
    {
     "ename": "TypeError",
     "evalue": "unsupported operand type(s) for -: 'str' and 'str'",
     "output_type": "error",
     "traceback": [
      "\u001b[1;31m---------------------------------------------------------------------------\u001b[0m",
      "\u001b[1;31mTypeError\u001b[0m                                 Traceback (most recent call last)",
      "Cell \u001b[1;32mIn[10], line 3\u001b[0m\n\u001b[0;32m      1\u001b[0m a6\u001b[38;5;241m=\u001b[39m\u001b[38;5;124m\"\u001b[39m\u001b[38;5;124mhello\u001b[39m\u001b[38;5;124m\"\u001b[39m\n\u001b[0;32m      2\u001b[0m a7\u001b[38;5;241m=\u001b[39m\u001b[38;5;124m\"\u001b[39m\u001b[38;5;124mworld\u001b[39m\u001b[38;5;124m\"\u001b[39m\n\u001b[1;32m----> 3\u001b[0m \u001b[38;5;28mprint\u001b[39m(a6\u001b[38;5;241m-\u001b[39ma7)\n",
      "\u001b[1;31mTypeError\u001b[0m: unsupported operand type(s) for -: 'str' and 'str'"
     ]
    }
   ],
   "source": [
    "a6=\"hello\"    #string ke liye hm subtraction nhi kr skte haiM\n",
    "a7=\"world\"\n",
    "print(a6-a7)"
   ]
  },
  {
   "cell_type": "code",
   "execution_count": 11,
   "id": "aca8958b-b69b-48c9-8b67-e7094424bb83",
   "metadata": {},
   "outputs": [
    {
     "name": "stdout",
     "output_type": "stream",
     "text": [
      "(-19+4j)\n"
     ]
    }
   ],
   "source": [
    "a8=65+78j\n",
    "a9=84+74j\n",
    "print(a8-a9)"
   ]
  },
  {
   "cell_type": "markdown",
   "id": "cfbad1a4-9d26-4781-afc5-5acf7a2d4f9f",
   "metadata": {},
   "source": [
    "### Multiplication "
   ]
  },
  {
   "cell_type": "code",
   "execution_count": 12,
   "id": "075cac7e-dbac-4876-b529-c0dfcec87fed",
   "metadata": {},
   "outputs": [
    {
     "name": "stdout",
     "output_type": "stream",
     "text": [
      "4698\n"
     ]
    }
   ],
   "source": [
    "b1=54\n",
    "b2=87\n",
    "print(b1*b2)"
   ]
  },
  {
   "cell_type": "code",
   "execution_count": 13,
   "id": "697fa7f0-a23d-4e23-8143-77f0834831f5",
   "metadata": {},
   "outputs": [
    {
     "name": "stdout",
     "output_type": "stream",
     "text": [
      "20389.824\n"
     ]
    }
   ],
   "source": [
    "b4=87.36\n",
    "b5=233.4\n",
    "print(b4*b5)"
   ]
  },
  {
   "cell_type": "code",
   "execution_count": 14,
   "id": "ede6e6db-4af8-4e3d-bb0f-5e38d2521514",
   "metadata": {},
   "outputs": [
    {
     "ename": "TypeError",
     "evalue": "can't multiply sequence by non-int of type 'str'",
     "output_type": "error",
     "traceback": [
      "\u001b[1;31m---------------------------------------------------------------------------\u001b[0m",
      "\u001b[1;31mTypeError\u001b[0m                                 Traceback (most recent call last)",
      "Cell \u001b[1;32mIn[14], line 3\u001b[0m\n\u001b[0;32m      1\u001b[0m b6\u001b[38;5;241m=\u001b[39m\u001b[38;5;124m\"\u001b[39m\u001b[38;5;124mchandan\u001b[39m\u001b[38;5;124m\"\u001b[39m\n\u001b[0;32m      2\u001b[0m b7\u001b[38;5;241m=\u001b[39m\u001b[38;5;124m\"\u001b[39m\u001b[38;5;124mthakur\u001b[39m\u001b[38;5;124m\"\u001b[39m\n\u001b[1;32m----> 3\u001b[0m \u001b[38;5;28mprint\u001b[39m(b6\u001b[38;5;241m*\u001b[39mb7)\n",
      "\u001b[1;31mTypeError\u001b[0m: can't multiply sequence by non-int of type 'str'"
     ]
    }
   ],
   "source": [
    "b6=\"chandan\"\n",
    "b7=\"thakur\"\n",
    "print(b6*b7)"
   ]
  },
  {
   "cell_type": "code",
   "execution_count": 15,
   "id": "868d21de-9c6e-4922-a28f-3e990b99eaad",
   "metadata": {},
   "outputs": [
    {
     "name": "stdout",
     "output_type": "stream",
     "text": [
      "chandanchandanchandan\n"
     ]
    }
   ],
   "source": [
    "b8=\"chandan\"\n",
    "print(b8*3)\n"
   ]
  },
  {
   "cell_type": "code",
   "execution_count": 16,
   "id": "8622566c-6434-4169-9500-1c12a78765c5",
   "metadata": {},
   "outputs": [
    {
     "name": "stdout",
     "output_type": "stream",
     "text": [
      "(3279+13016j)\n"
     ]
    }
   ],
   "source": [
    "m1=78+97j\n",
    "m2=98+45j\n",
    "print(m1*m2)"
   ]
  },
  {
   "cell_type": "markdown",
   "id": "ee2cf32e-8799-49f6-a93c-8128c5a20b48",
   "metadata": {},
   "source": [
    "### Divison"
   ]
  },
  {
   "cell_type": "code",
   "execution_count": 17,
   "id": "ab1cf48b-445f-4796-8a14-4f7b39189d34",
   "metadata": {},
   "outputs": [
    {
     "name": "stdout",
     "output_type": "stream",
     "text": [
      "9.0\n"
     ]
    }
   ],
   "source": [
    "a=45\n",
    "b=5\n",
    "print(a/b)"
   ]
  },
  {
   "cell_type": "code",
   "execution_count": 18,
   "id": "40d31716-914d-4117-8dca-a0bc4be7e1a3",
   "metadata": {},
   "outputs": [
    {
     "name": "stdout",
     "output_type": "stream",
     "text": [
      "0.977405264481899\n"
     ]
    }
   ],
   "source": [
    "a1=854.78\n",
    "a2=874.54\n",
    "print(a1/a2)"
   ]
  },
  {
   "cell_type": "code",
   "execution_count": 19,
   "id": "183ba66e-e65d-4c89-81c1-82d187ad78c4",
   "metadata": {},
   "outputs": [
    {
     "name": "stdout",
     "output_type": "stream",
     "text": [
      "(0.631833910034602-0.5096885813148788j)\n"
     ]
    }
   ],
   "source": [
    "com1=87+7j\n",
    "com2=78+74j\n",
    "print(com1/com2)"
   ]
  },
  {
   "cell_type": "code",
   "execution_count": 20,
   "id": "d5de8fba-b1ba-488d-8694-1b6b2a68aa0b",
   "metadata": {},
   "outputs": [
    {
     "ename": "NameError",
     "evalue": "name 'srt2' is not defined",
     "output_type": "error",
     "traceback": [
      "\u001b[1;31m---------------------------------------------------------------------------\u001b[0m",
      "\u001b[1;31mNameError\u001b[0m                                 Traceback (most recent call last)",
      "Cell \u001b[1;32mIn[20], line 3\u001b[0m\n\u001b[0;32m      1\u001b[0m str1\u001b[38;5;241m=\u001b[39m\u001b[38;5;124m\"\u001b[39m\u001b[38;5;124mchandan\u001b[39m\u001b[38;5;124m\"\u001b[39m\n\u001b[0;32m      2\u001b[0m str2\u001b[38;5;241m=\u001b[39m\u001b[38;5;124m\"\u001b[39m\u001b[38;5;124mgulshan\u001b[39m\u001b[38;5;124m\"\u001b[39m\n\u001b[1;32m----> 3\u001b[0m \u001b[38;5;28mprint\u001b[39m(str1\u001b[38;5;241m/\u001b[39msrt2)\n",
      "\u001b[1;31mNameError\u001b[0m: name 'srt2' is not defined"
     ]
    }
   ],
   "source": [
    "str1=\"chandan\"\n",
    "str2=\"gulshan\"\n",
    "print(str1/srt2)"
   ]
  },
  {
   "cell_type": "markdown",
   "id": "ebe8b58d-db5b-4bbd-9ea5-beb33b58e982",
   "metadata": {},
   "source": [
    "### modulous"
   ]
  },
  {
   "cell_type": "code",
   "execution_count": 21,
   "id": "302733e5-47eb-4942-9203-f595c61c0739",
   "metadata": {},
   "outputs": [
    {
     "name": "stdout",
     "output_type": "stream",
     "text": [
      "0\n"
     ]
    }
   ],
   "source": [
    "print(12%3)"
   ]
  },
  {
   "cell_type": "code",
   "execution_count": 22,
   "id": "a6cc40bf-9cc8-413b-a0df-68647b1c43ab",
   "metadata": {},
   "outputs": [
    {
     "name": "stdout",
     "output_type": "stream",
     "text": [
      "3\n"
     ]
    }
   ],
   "source": [
    "print(59%7)"
   ]
  },
  {
   "cell_type": "code",
   "execution_count": 23,
   "id": "bbe449e3-00f1-4598-bacc-8e630118e08c",
   "metadata": {},
   "outputs": [
    {
     "name": "stdout",
     "output_type": "stream",
     "text": [
      "2.1399999999999997\n"
     ]
    }
   ],
   "source": [
    "print(87.94%7.8)\n"
   ]
  },
  {
   "cell_type": "code",
   "execution_count": 24,
   "id": "6872bc9e-516c-40c7-9202-089987c83a1e",
   "metadata": {},
   "outputs": [
    {
     "ename": "TypeError",
     "evalue": "unsupported operand type(s) for %: 'complex' and 'complex'",
     "output_type": "error",
     "traceback": [
      "\u001b[1;31m---------------------------------------------------------------------------\u001b[0m",
      "\u001b[1;31mTypeError\u001b[0m                                 Traceback (most recent call last)",
      "Cell \u001b[1;32mIn[24], line 3\u001b[0m\n\u001b[0;32m      1\u001b[0m com1\u001b[38;5;241m=\u001b[39m\u001b[38;5;241m78\u001b[39m\u001b[38;5;241m+\u001b[39m\u001b[38;5;241m7\u001b[39mj\n\u001b[0;32m      2\u001b[0m com2\u001b[38;5;241m=\u001b[39m\u001b[38;5;241m98\u001b[39m\u001b[38;5;241m+\u001b[39m\u001b[38;5;241m4\u001b[39mj\n\u001b[1;32m----> 3\u001b[0m \u001b[38;5;28mprint\u001b[39m(com1\u001b[38;5;241m%\u001b[39mcom2)\n",
      "\u001b[1;31mTypeError\u001b[0m: unsupported operand type(s) for %: 'complex' and 'complex'"
     ]
    }
   ],
   "source": [
    "com1=78+7j\n",
    "com2=98+4j\n",
    "print(com1%com2)"
   ]
  },
  {
   "cell_type": "markdown",
   "id": "58f371f2-e4fb-42f3-a6b1-edc178075050",
   "metadata": {},
   "source": [
    "### floor divison"
   ]
  },
  {
   "cell_type": "code",
   "execution_count": 25,
   "id": "d6ec848a-1fb8-4f68-b3c4-a535fd192363",
   "metadata": {},
   "outputs": [
    {
     "name": "stdout",
     "output_type": "stream",
     "text": [
      "3\n"
     ]
    }
   ],
   "source": [
    "print(12//4)"
   ]
  },
  {
   "cell_type": "code",
   "execution_count": 26,
   "id": "22af75bc-6377-4c51-ad6c-6a15db11b15a",
   "metadata": {},
   "outputs": [
    {
     "name": "stdout",
     "output_type": "stream",
     "text": [
      "12\n"
     ]
    }
   ],
   "source": [
    "print(48//4)"
   ]
  },
  {
   "cell_type": "markdown",
   "id": "7022ccce-bb7b-4939-89de-48ac236b2def",
   "metadata": {},
   "source": [
    "*Exponent"
   ]
  },
  {
   "cell_type": "code",
   "execution_count": 27,
   "id": "71873a33-f31e-4c0c-b69b-d893765e3b18",
   "metadata": {},
   "outputs": [
    {
     "name": "stdout",
     "output_type": "stream",
     "text": [
      "9\n"
     ]
    }
   ],
   "source": [
    "a=3\n",
    "b=2\n",
    "print(a**b)"
   ]
  },
  {
   "cell_type": "code",
   "execution_count": 28,
   "id": "1f8cde9d-5e80-412f-b76a-8bae282e2fbd",
   "metadata": {},
   "outputs": [
    {
     "name": "stdout",
     "output_type": "stream",
     "text": [
      "120444990420265857289398430624\n"
     ]
    }
   ],
   "source": [
    "b=654874\n",
    "print(b**5)"
   ]
  },
  {
   "cell_type": "code",
   "execution_count": 29,
   "id": "594bee78-676b-4999-8a4a-dff54f50083f",
   "metadata": {},
   "outputs": [
    {
     "name": "stdout",
     "output_type": "stream",
     "text": [
      "2.4\n"
     ]
    }
   ],
   "source": [
    "#bmi formula question\n",
    "w=60\n",
    "h=5\n",
    "v=h**2\n",
    "print(w/v)"
   ]
  },
  {
   "cell_type": "markdown",
   "id": "0fe1bdb1-b0d0-4ce0-ace4-a27a48f27062",
   "metadata": {},
   "source": [
    "# Boolean operator"
   ]
  },
  {
   "cell_type": "code",
   "execution_count": 30,
   "id": "31b8d20b-5e93-4044-9ecd-166cacbd16b0",
   "metadata": {},
   "outputs": [
    {
     "name": "stdout",
     "output_type": "stream",
     "text": [
      "<class 'bool'>\n"
     ]
    }
   ],
   "source": [
    "a=True\n",
    "print(type(a))"
   ]
  },
  {
   "cell_type": "code",
   "execution_count": 32,
   "id": "fa71c92f-b452-48a2-aaf3-a4a46aef72e5",
   "metadata": {},
   "outputs": [
    {
     "name": "stdout",
     "output_type": "stream",
     "text": [
      "<class 'bool'>\n"
     ]
    }
   ],
   "source": [
    "a1=False\n",
    "print(type(a1))"
   ]
  },
  {
   "cell_type": "markdown",
   "id": "a3e21407-d316-41bb-8486-ec821b997f7b",
   "metadata": {},
   "source": [
    "# Comparison Operator"
   ]
  },
  {
   "cell_type": "markdown",
   "id": "dd4ad296-96fd-40f6-9047-ba03cd9d4e3c",
   "metadata": {},
   "source": [
    "### In python, comparison operator are used to compare values. these operator return True or False based on whether thr comparison is true or false"
   ]
  },
  {
   "cell_type": "markdown",
   "id": "9c68e1a8-f08a-4872-815a-9317684d7c5d",
   "metadata": {},
   "source": [
    "#### Equal to =="
   ]
  },
  {
   "cell_type": "code",
   "execution_count": 1,
   "id": "cec0f424-9f2e-4496-922c-6b4251c89dbf",
   "metadata": {},
   "outputs": [
    {
     "name": "stdout",
     "output_type": "stream",
     "text": [
      "True\n"
     ]
    }
   ],
   "source": [
    "x=5\n",
    "y=5\n",
    "print(x==y)"
   ]
  },
  {
   "cell_type": "code",
   "execution_count": 2,
   "id": "35db6d45-0e00-479b-b193-e3d5096e0ce6",
   "metadata": {},
   "outputs": [
    {
     "name": "stdout",
     "output_type": "stream",
     "text": [
      "False\n"
     ]
    }
   ],
   "source": [
    "x=5\n",
    "y=6\n",
    "print(x==y)"
   ]
  },
  {
   "cell_type": "markdown",
   "id": "898df40a-972c-40fd-9494-a726ed313ea9",
   "metadata": {},
   "source": [
    "#### not equal to !="
   ]
  },
  {
   "cell_type": "code",
   "execution_count": 3,
   "id": "165100bd-698c-4164-86b8-a4172aab626f",
   "metadata": {},
   "outputs": [
    {
     "name": "stdout",
     "output_type": "stream",
     "text": [
      "True\n"
     ]
    }
   ],
   "source": [
    "x=5\n",
    "y=6\n",
    "print(x!=y)"
   ]
  },
  {
   "cell_type": "code",
   "execution_count": 4,
   "id": "614d4b4c-b52e-4d20-90ce-2db34e2a7b0b",
   "metadata": {},
   "outputs": [
    {
     "name": "stdout",
     "output_type": "stream",
     "text": [
      "False\n"
     ]
    }
   ],
   "source": [
    "x=5\n",
    "y=5\n",
    "print(x!=y)"
   ]
  },
  {
   "cell_type": "markdown",
   "id": "0d56459c-9c38-4f8f-b3d7-54a387069d4e",
   "metadata": {},
   "source": [
    "#### Greater than  > "
   ]
  },
  {
   "cell_type": "code",
   "execution_count": 5,
   "id": "c322dd76-8488-4d8c-b209-7ecb90200a1e",
   "metadata": {},
   "outputs": [
    {
     "name": "stdout",
     "output_type": "stream",
     "text": [
      "False\n"
     ]
    }
   ],
   "source": [
    "a=5\n",
    "b=9\n",
    "print(a>b)"
   ]
  },
  {
   "cell_type": "code",
   "execution_count": 6,
   "id": "e2494639-d7f2-4f94-bbc8-e5f23d9b3577",
   "metadata": {},
   "outputs": [
    {
     "name": "stdout",
     "output_type": "stream",
     "text": [
      "True\n"
     ]
    }
   ],
   "source": [
    "a=15\n",
    "b=9\n",
    "print(a>b)"
   ]
  },
  {
   "cell_type": "markdown",
   "id": "e58cf58a-8024-48ce-a76b-caa0a2f852b8",
   "metadata": {},
   "source": [
    "#### Less than <"
   ]
  },
  {
   "cell_type": "markdown",
   "id": "44bf0cd3-b57d-45b2-9465-7035fbf3ba17",
   "metadata": {},
   "source": [
    "a=5\n",
    "b=9\n",
    "print(a<b)"
   ]
  },
  {
   "cell_type": "code",
   "execution_count": 8,
   "id": "b54ac108-026a-49b0-8f7b-4e39f607d7ec",
   "metadata": {},
   "outputs": [
    {
     "name": "stdout",
     "output_type": "stream",
     "text": [
      "False\n"
     ]
    }
   ],
   "source": [
    "a=15\n",
    "b=9\n",
    "print(a<b)"
   ]
  },
  {
   "cell_type": "markdown",
   "id": "46507aa1-5c0f-4c06-8c74-7f1d1e48bcd0",
   "metadata": {},
   "source": [
    "#### greater than equal to >="
   ]
  },
  {
   "cell_type": "code",
   "execution_count": 9,
   "id": "d85ae455-1cff-49ce-a02d-9e62be22f340",
   "metadata": {},
   "outputs": [
    {
     "name": "stdout",
     "output_type": "stream",
     "text": [
      "True\n"
     ]
    }
   ],
   "source": [
    "x=15\n",
    "y=8\n",
    "print(x>=y)"
   ]
  },
  {
   "cell_type": "markdown",
   "id": "116b73dc-6fd9-44cd-8781-5f8161446c66",
   "metadata": {},
   "source": [
    "#### less than equal to <="
   ]
  },
  {
   "cell_type": "code",
   "execution_count": 10,
   "id": "e04e05d8-7329-4b03-8125-130e13f2b7b7",
   "metadata": {},
   "outputs": [
    {
     "name": "stdout",
     "output_type": "stream",
     "text": [
      "False\n"
     ]
    }
   ],
   "source": [
    "x=15\n",
    "y=8\n",
    "print(x<=y)"
   ]
  },
  {
   "cell_type": "markdown",
   "id": "40fbf54e-5e8c-4253-8b94-f11ab90a647f",
   "metadata": {},
   "source": [
    "# Logical Operator"
   ]
  },
  {
   "cell_type": "code",
   "execution_count": 11,
   "id": "1e4529a4-dd14-4637-8f2f-39b084823668",
   "metadata": {},
   "outputs": [
    {
     "name": "stdout",
     "output_type": "stream",
     "text": [
      "False\n"
     ]
    }
   ],
   "source": [
    "x= True\n",
    "y= False\n",
    "print(x and y)"
   ]
  },
  {
   "cell_type": "code",
   "execution_count": 12,
   "id": "e42499f9-9181-431f-a7f3-350301d908ae",
   "metadata": {},
   "outputs": [
    {
     "name": "stdout",
     "output_type": "stream",
     "text": [
      "True\n"
     ]
    }
   ],
   "source": [
    "x=True\n",
    "y= False\n",
    "print(x or y)"
   ]
  },
  {
   "cell_type": "code",
   "execution_count": 13,
   "id": "dce25b81-1e16-4974-a1b1-195021499d31",
   "metadata": {},
   "outputs": [
    {
     "name": "stdout",
     "output_type": "stream",
     "text": [
      "False\n"
     ]
    }
   ],
   "source": [
    "x= True\n",
    "print(not x)"
   ]
  },
  {
   "cell_type": "markdown",
   "id": "878fb07d-344c-4600-a19a-a1b8ba8d32b7",
   "metadata": {},
   "source": [
    "Question 1"
   ]
  },
  {
   "cell_type": "code",
   "execution_count": 24,
   "id": "b9173301-f8fc-4a64-be91-4a7146364a2a",
   "metadata": {},
   "outputs": [
    {
     "name": "stdout",
     "output_type": "stream",
     "text": [
      "Total amount is: 26966\n"
     ]
    }
   ],
   "source": [
    "product1 =5\n",
    "price1=250\n",
    "product2 =25\n",
    "price2 =656\n",
    "product3 =34\n",
    "price3=274\n",
    "total_amount=((product1*price1)+(product2*price2)+(product3*price3))\n",
    "print(\"Total amount is:\",total_amount)"
   ]
  },
  {
   "cell_type": "markdown",
   "id": "6efbde35-ccec-41cc-a172-7fc6fb8b45c0",
   "metadata": {},
   "source": [
    "Question 2"
   ]
  },
  {
   "cell_type": "markdown",
   "id": "a0fbe386-b0da-42d7-974a-843ad016fdc3",
   "metadata": {},
   "source": [
    "Calucate simple interest rate in company"
   ]
  },
  {
   "cell_type": "code",
   "execution_count": 26,
   "id": "78ac3a28-4275-426f-9abc-56fe71f396e3",
   "metadata": {},
   "outputs": [
    {
     "name": "stdout",
     "output_type": "stream",
     "text": [
      "360000.0\n",
      "True\n"
     ]
    }
   ],
   "source": [
    "p=1500000\n",
    "r=8\n",
    "t=3\n",
    "threshold = 12000\n",
    "si=(p*r*t/100)\n",
    "print(si)\n",
    "comp = si>threshold\n",
    "print(comp)"
   ]
  },
  {
   "cell_type": "markdown",
   "id": "b6ac2fae-22c8-4df7-b95b-74e0b128c702",
   "metadata": {},
   "source": [
    "Question 3"
   ]
  },
  {
   "cell_type": "markdown",
   "id": "bd38561e-163c-48d0-803a-34b95782116c",
   "metadata": {},
   "source": [
    "Write a program to calculate the area of circle with radius of 12cm"
   ]
  },
  {
   "cell_type": "code",
   "execution_count": 28,
   "id": "9938e2e1-9339-4c6b-be79-abbaf09cbe37",
   "metadata": {},
   "outputs": [
    {
     "name": "stdout",
     "output_type": "stream",
     "text": [
      "Area of circle is: 452.15999999999997\n"
     ]
    }
   ],
   "source": [
    "r=12\n",
    "Area=3.14*r*r\n",
    "print(\"Area of circle is:\",Area)"
   ]
  },
  {
   "cell_type": "raw",
   "id": "1b537991-e8e8-4378-b7e4-b09a9accbaad",
   "metadata": {},
   "source": []
  }
 ],
 "metadata": {
  "kernelspec": {
   "display_name": "Python 3 (ipykernel)",
   "language": "python",
   "name": "python3"
  },
  "language_info": {
   "codemirror_mode": {
    "name": "ipython",
    "version": 3
   },
   "file_extension": ".py",
   "mimetype": "text/x-python",
   "name": "python",
   "nbconvert_exporter": "python",
   "pygments_lexer": "ipython3",
   "version": "3.12.7"
  }
 },
 "nbformat": 4,
 "nbformat_minor": 5
}
