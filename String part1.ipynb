{
 "cells": [
  {
   "cell_type": "markdown",
   "id": "81f23f91-19b8-4649-a55d-4efdaee9168d",
   "metadata": {},
   "source": [
    "## lecture 12\n",
    "#### String in Python-part 1\n",
    "### creating sttrings in python"
   ]
  },
  {
   "cell_type": "code",
   "execution_count": 1,
   "id": "6222c030-a36f-4d84-88cf-eeeb5562c28a",
   "metadata": {},
   "outputs": [
    {
     "name": "stdout",
     "output_type": "stream",
     "text": [
      "chandan\n",
      "<class 'str'>\n"
     ]
    }
   ],
   "source": [
    "a= \"chandan\"\n",
    "print(a)\n",
    "print(type(a))"
   ]
  },
  {
   "cell_type": "code",
   "execution_count": 3,
   "id": "c479e679-7154-4f2b-8b6f-3816eca3bfbf",
   "metadata": {},
   "outputs": [
    {
     "name": "stdout",
     "output_type": "stream",
     "text": [
      "gulshan\n",
      "<class 'str'>\n"
     ]
    }
   ],
   "source": [
    "b='gulshan'\n",
    "print(b)\n",
    "print(type(b))"
   ]
  },
  {
   "cell_type": "code",
   "execution_count": 6,
   "id": "a1bd5205-6756-4edb-8627-53b0abaa6ca5",
   "metadata": {},
   "outputs": [
    {
     "name": "stdout",
     "output_type": "stream",
     "text": [
      "i am chandan \n",
      "i am student \n"
     ]
    }
   ],
   "source": [
    "str =\"i am chandan \\ni am student \"\n",
    "print(str)"
   ]
  },
  {
   "cell_type": "markdown",
   "id": "d0469243-e00c-4191-baf4-e3fb626dcbd9",
   "metadata": {},
   "source": [
    "##### multiline strings"
   ]
  },
  {
   "cell_type": "code",
   "execution_count": 7,
   "id": "2e69fa43-31e4-4d92-95e1-09c7b77ac1d4",
   "metadata": {},
   "outputs": [
    {
     "name": "stdout",
     "output_type": "stream",
     "text": [
      "Find out which posts are a hit with Blogger’s built-in analytics. \n",
      "You’ll see where your audience is coming from and what they’re interested in.\n",
      "You can even connect your blog directly to\n",
      "Google Analytics for a more detailed look. \n"
     ]
    }
   ],
   "source": [
    "a=\"\"\"Find out which posts are a hit with Blogger’s built-in analytics. \n",
    "You’ll see where your audience is coming from and what they’re interested in.\n",
    "You can even connect your blog directly to\n",
    "Google Analytics for a more detailed look. \"\"\"\n",
    "print(a)"
   ]
  },
  {
   "cell_type": "markdown",
   "id": "5b040793-fe16-4e84-9214-685183975891",
   "metadata": {},
   "source": [
    "## Indexing of strings"
   ]
  },
  {
   "cell_type": "code",
   "execution_count": 16,
   "id": "fc795192-494a-4a87-bf76-a2dcd1b45629",
   "metadata": {},
   "outputs": [
    {
     "name": "stdout",
     "output_type": "stream",
     "text": [
      "Hello dear learners\n",
      "H\n",
      "e\n",
      "l\n",
      "l\n",
      "o\n",
      " \n",
      "d\n",
      "e\n",
      "a\n",
      "r\n",
      " \n",
      "l\n",
      "e\n",
      "a\n"
     ]
    }
   ],
   "source": [
    "d=\"Hello dear learners\"\n",
    "print(d)\n",
    "print(d[0])\n",
    "print(d[1])\n",
    "print(d[2])\n",
    "print(d[3])\n",
    "print(d[4])\n",
    "print(d[5])\n",
    "print(d[6])\n",
    "print(d[7])\n",
    "print(d[8])\n",
    "print(d[9])\n",
    "print(d[10])\n",
    "print(d[11])\n",
    "print(d[12])\n",
    "print(d[13])"
   ]
  },
  {
   "cell_type": "code",
   "execution_count": 18,
   "id": "229bfb06-f4c6-48b5-b655-0adf6197ffd1",
   "metadata": {},
   "outputs": [
    {
     "name": "stdout",
     "output_type": "stream",
     "text": [
      "s\n",
      "r\n",
      "r\n"
     ]
    }
   ],
   "source": [
    "print(d[-1])\n",
    "print(d[-2])\n",
    "print(d[-5])"
   ]
  },
  {
   "cell_type": "code",
   "execution_count": 19,
   "id": "7a424f46-dc8a-4ba7-98cb-d43e7b0de797",
   "metadata": {},
   "outputs": [
    {
     "name": "stdout",
     "output_type": "stream",
     "text": [
      "d a t i\n"
     ]
    }
   ],
   "source": [
    "b=\"data science is the growing field\"\n",
    "print(b[0],b[1],b[2],b[-9])"
   ]
  },
  {
   "cell_type": "markdown",
   "id": "54f9015e-80ee-4f59-b866-c8fc4a2763d1",
   "metadata": {},
   "source": [
    "### Sclicing"
   ]
  },
  {
   "cell_type": "code",
   "execution_count": 21,
   "id": "81e3028f-cbeb-4a80-b30f-8346ee0d0692",
   "metadata": {},
   "outputs": [
    {
     "name": "stdout",
     "output_type": "stream",
     "text": [
      "i am\n"
     ]
    }
   ],
   "source": [
    "a =\"i am learning datascience\"\n",
    "print(a[0:4])\n"
   ]
  },
  {
   "cell_type": "code",
   "execution_count": 22,
   "id": "83187624-5bc3-4206-8e30-594bf21dc6f5",
   "metadata": {},
   "outputs": [
    {
     "name": "stdout",
     "output_type": "stream",
     "text": [
      "i am lea\n"
     ]
    }
   ],
   "source": [
    "print(a[0:8])"
   ]
  },
  {
   "cell_type": "code",
   "execution_count": 25,
   "id": "8c78397e-c63e-45ba-af60-6266b0bc0ae2",
   "metadata": {},
   "outputs": [
    {
     "name": "stdout",
     "output_type": "stream",
     "text": [
      "i am learning datascience\n"
     ]
    }
   ],
   "source": [
    "print(a[:])"
   ]
  },
  {
   "cell_type": "markdown",
   "id": "93c760b6-e99a-4cfd-90c7-96a00f84777e",
   "metadata": {},
   "source": [
    "### sclicing with jump"
   ]
  },
  {
   "cell_type": "code",
   "execution_count": 26,
   "id": "e09757df-1ca9-49ed-89ce-08416b1ba797",
   "metadata": {},
   "outputs": [
    {
     "name": "stdout",
     "output_type": "stream",
     "text": [
      "ia er\n"
     ]
    }
   ],
   "source": [
    "a =\"i am learning datascience\"\n",
    "print(a[0:10:2])"
   ]
  },
  {
   "cell_type": "code",
   "execution_count": 27,
   "id": "02f78b57-616b-4fb1-8095-fc42f61081d3",
   "metadata": {},
   "outputs": [
    {
     "name": "stdout",
     "output_type": "stream",
     "text": [
      "imen\n"
     ]
    }
   ],
   "source": [
    "print(a[0:10:3])"
   ]
  },
  {
   "cell_type": "code",
   "execution_count": 29,
   "id": "0dbd0f2e-4def-45ed-bd21-f3f40ef7adb5",
   "metadata": {},
   "outputs": [
    {
     "name": "stdout",
     "output_type": "stream",
     "text": [
      "iliai\n"
     ]
    }
   ],
   "source": [
    "print(a[::5])"
   ]
  },
  {
   "cell_type": "markdown",
   "id": "3bc7ecce-f5f7-4109-891a-2206fe9f0e3c",
   "metadata": {},
   "source": [
    "#### negative sclicing"
   ]
  },
  {
   "cell_type": "code",
   "execution_count": 30,
   "id": "2f4937da-5689-4367-8422-de6f29eb3e8a",
   "metadata": {},
   "outputs": [
    {
     "name": "stdout",
     "output_type": "stream",
     "text": [
      "cienc\n"
     ]
    }
   ],
   "source": [
    "a =\"i am learning datascience\"\n",
    "print(a[-6:-1])"
   ]
  },
  {
   "cell_type": "code",
   "execution_count": 31,
   "id": "2a2c6658-b428-4e53-b2be-69db773f7142",
   "metadata": {},
   "outputs": [
    {
     "name": "stdout",
     "output_type": "stream",
     "text": [
      "ning datascience\n"
     ]
    }
   ],
   "source": [
    "print(a[-16:])"
   ]
  },
  {
   "cell_type": "code",
   "execution_count": 32,
   "id": "5681b340-07c9-47e8-8ab1-c3c52be11487",
   "metadata": {},
   "outputs": [
    {
     "name": "stdout",
     "output_type": "stream",
     "text": [
      "ann aacec\n"
     ]
    }
   ],
   "source": [
    "print(a[-18:-1:2])"
   ]
  },
  {
   "cell_type": "markdown",
   "id": "2ec6fbb2-a0c7-493c-bed5-c1b201ff6c76",
   "metadata": {},
   "source": [
    "# practice question"
   ]
  },
  {
   "cell_type": "markdown",
   "id": "95d7bdb0-e016-4add-bf0c-10c1c39ccf11",
   "metadata": {},
   "source": [
    "##### question 1"
   ]
  },
  {
   "cell_type": "code",
   "execution_count": null,
   "id": "637dd931-957b-4e50-90d4-b27ca584a94d",
   "metadata": {},
   "outputs": [],
   "source": [
    "write a Python function that takes a \n",
    "data string in the formate \"YYYY-MM-DD\"\n",
    "and return a tuple containing \n",
    "the year,month,and day as integers.\n",
    "\n",
    "Example Input:\"2024-05-28\"\n",
    "\n",
    "Expected Output:(2024,5,28)"
   ]
  },
  {
   "cell_type": "code",
   "execution_count": 34,
   "id": "b3b5ca8c-1ff0-4f48-a8ce-2ba42cd97f72",
   "metadata": {},
   "outputs": [],
   "source": [
    "def extract_date_parts(date_string):\n",
    "    year= int(date_string[0:4])\n",
    "    month = int(date_string[5:7])\n",
    "    day = int(date_string[8:])\n",
    "    return(year,month,day)  "
   ]
  },
  {
   "cell_type": "code",
   "execution_count": 36,
   "id": "deaf4c56-b491-4f48-8e91-5e2b3307f0ee",
   "metadata": {},
   "outputs": [
    {
     "data": {
      "text/plain": [
       "(2024, 5, 20)"
      ]
     },
     "execution_count": 36,
     "metadata": {},
     "output_type": "execute_result"
    }
   ],
   "source": [
    "extract_date_parts(\"2024-05-20\")"
   ]
  },
  {
   "cell_type": "code",
   "execution_count": 37,
   "id": "31245fae-ae03-4df1-a07a-2d8c25d50e55",
   "metadata": {},
   "outputs": [
    {
     "name": "stdin",
     "output_type": "stream",
     "text": [
      "enter your date of birth in (YYYY-MM-DD) 2024-03-05\n"
     ]
    },
    {
     "data": {
      "text/plain": [
       "(2024, 3, 5)"
      ]
     },
     "execution_count": 37,
     "metadata": {},
     "output_type": "execute_result"
    }
   ],
   "source": [
    "date_string = input(\"enter your date of birth in (YYYY-MM-DD)\")\n",
    "extract_date_parts(date_string)"
   ]
  },
  {
   "cell_type": "code",
   "execution_count": 39,
   "id": "bf63f279-2ad9-48f8-af19-4a7a0514479d",
   "metadata": {},
   "outputs": [
    {
     "name": "stdin",
     "output_type": "stream",
     "text": [
      "enter your date of birth in (YYYY-MM-DD) 2022-03-15\n"
     ]
    },
    {
     "data": {
      "text/plain": [
       "(2022, 3, 15)"
      ]
     },
     "execution_count": 39,
     "metadata": {},
     "output_type": "execute_result"
    }
   ],
   "source": [
    "date_string = input(\"enter your date of birth in (YYYY-MM-DD)\")\n",
    "extract_date_parts(date_string)"
   ]
  },
  {
   "cell_type": "markdown",
   "id": "9944f744-d173-4d83-9f4c-c26c05e04053",
   "metadata": {},
   "source": [
    "##### question 2"
   ]
  },
  {
   "cell_type": "code",
   "execution_count": null,
   "id": "86b162b5-508a-4f79-99f7-0839e445e2be",
   "metadata": {},
   "outputs": [],
   "source": [
    "write a python program to reverse the string \" honesty is the best policy\"\n"
   ]
  },
  {
   "cell_type": "code",
   "execution_count": 40,
   "id": "8ba04da3-e788-43e1-9934-83011b58dde8",
   "metadata": {},
   "outputs": [
    {
     "name": "stdout",
     "output_type": "stream",
     "text": [
      "ycilop tseb eht si ytsenoh\n"
     ]
    }
   ],
   "source": [
    "str =\"honesty is the best policy\"\n",
    "print(str[::-1])"
   ]
  },
  {
   "cell_type": "markdown",
   "id": "f732ee3d-e7b8-4342-b330-222c42a63b80",
   "metadata": {},
   "source": [
    "##### question 3"
   ]
  },
  {
   "cell_type": "code",
   "execution_count": null,
   "id": "f96f20ad-92ef-4c08-9508-c5e2bf55067b",
   "metadata": {},
   "outputs": [],
   "source": [
    "Write a Python function that takes a strings \n",
    "as input and returns the substring\n",
    "from the 3rd tothe 8th character\n",
    "\n",
    "\"Data Science\"\n",
    "\"helo world, i am learning python\"\n",
    "\"All the best\""
   ]
  },
  {
   "cell_type": "code",
   "execution_count": 46,
   "id": "8305e102-a9e4-42ae-bf84-8677dffea1e8",
   "metadata": {},
   "outputs": [
    {
     "name": "stdout",
     "output_type": "stream",
     "text": [
      "a Scie\n",
      "o worl\n",
      " the b\n"
     ]
    }
   ],
   "source": [
    "def string_sclicing(str1):\n",
    "    print(str1[3:9])\n",
    "\n",
    "str=\"Data Science\"\n",
    "str2=\"helo world, i am learning python\"\n",
    "str3=\"All the best\"\n",
    "string_sclicing(str)\n",
    "string_sclicing(str2)\n",
    "string_sclicing(str3)\n"
   ]
  },
  {
   "cell_type": "code",
   "execution_count": null,
   "id": "42f0384f-2c96-48f0-914a-4f55dffb12e3",
   "metadata": {},
   "outputs": [],
   "source": []
  }
 ],
 "metadata": {
  "kernelspec": {
   "display_name": "Python 3 (ipykernel)",
   "language": "python",
   "name": "python3"
  },
  "language_info": {
   "codemirror_mode": {
    "name": "ipython",
    "version": 3
   },
   "file_extension": ".py",
   "mimetype": "text/x-python",
   "name": "python",
   "nbconvert_exporter": "python",
   "pygments_lexer": "ipython3",
   "version": "3.12.7"
  }
 },
 "nbformat": 4,
 "nbformat_minor": 5
}
