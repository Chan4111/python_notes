{
 "cells": [
  {
   "cell_type": "code",
   "execution_count": null,
   "id": "1bf8a497-43c8-4b91-ba32-523cdb8cf9fe",
   "metadata": {},
   "outputs": [],
   "source": [
    "this is my first class"
   ]
  },
  {
   "cell_type": "code",
   "execution_count": 1,
   "id": "c825c6c9-cc89-4e10-ab29-92551e2997bf",
   "metadata": {},
   "outputs": [
    {
     "name": "stdout",
     "output_type": "stream",
     "text": [
      "this is my first class\n"
     ]
    }
   ],
   "source": [
    "print(\"this is my first class\")"
   ]
  },
  {
   "cell_type": "raw",
   "id": "6b8d9dcb-15ba-4197-acd5-1702290aa008",
   "metadata": {},
   "source": [
    "this is my first class"
   ]
  },
  {
   "cell_type": "markdown",
   "id": "e742094a-f299-4243-ad36-856b8fd9249a",
   "metadata": {},
   "source": [
    "#this is my first class"
   ]
  },
  {
   "cell_type": "markdown",
   "id": "80904be6-93c2-4eb3-a187-c17e1ffa9556",
   "metadata": {},
   "source": [
    "#this is my first class"
   ]
  },
  {
   "cell_type": "code",
   "execution_count": 2,
   "id": "0dfa67b1-7314-4840-8147-64e533873559",
   "metadata": {},
   "outputs": [
    {
     "name": "stdout",
     "output_type": "stream",
     "text": [
      "5\n"
     ]
    }
   ],
   "source": [
    "print(2+3)"
   ]
  },
  {
   "cell_type": "code",
   "execution_count": 3,
   "id": "83b1b9f4-b96f-4211-b15f-213c331f42f4",
   "metadata": {},
   "outputs": [
    {
     "name": "stdout",
     "output_type": "stream",
     "text": [
      "Hello World\n"
     ]
    }
   ],
   "source": [
    "print(\"Hello World\")"
   ]
  },
  {
   "cell_type": "code",
   "execution_count": 5,
   "id": "6ffacb6b-7263-45b6-9326-0646bc62a1e6",
   "metadata": {},
   "outputs": [
    {
     "name": "stdout",
     "output_type": "stream",
     "text": [
      "hello world\n"
     ]
    }
   ],
   "source": [
    "print(\"hello world\")"
   ]
  },
  {
   "cell_type": "code",
   "execution_count": 6,
   "id": "bd5c7a4b-ee4c-40ca-bff7-60b4e8372ee5",
   "metadata": {},
   "outputs": [
    {
     "name": "stdout",
     "output_type": "stream",
     "text": [
      "hello  i am chandan\n",
      "20\n",
      "10\n"
     ]
    }
   ],
   "source": [
    "#this is about the introduction of a educator \n",
    "print(\"hello  i am chandan\")\n",
    "print('20') #this is a number\n",
    "print(2+8)"
   ]
  },
  {
   "cell_type": "code",
   "execution_count": 1,
   "id": "fe501c4c-fd2f-432f-8d30-e8f78fc746d8",
   "metadata": {},
   "outputs": [
    {
     "name": "stdout",
     "output_type": "stream",
     "text": [
      "5\n"
     ]
    }
   ],
   "source": [
    "#data type in pytjon\n",
    "x=5  #int\n",
    "print(x)"
   ]
  },
  {
   "cell_type": "code",
   "execution_count": 2,
   "id": "f3228c9e-f637-4f6b-b422-669db56cd03c",
   "metadata": {},
   "outputs": [
    {
     "name": "stdout",
     "output_type": "stream",
     "text": [
      "10 25 chandan\n"
     ]
    }
   ],
   "source": [
    "a=10 #int\n",
    "b=25 #float\n",
    "c=\"chandan\"\n",
    "print(a,b,c)#string"
   ]
  },
  {
   "cell_type": "code",
   "execution_count": 3,
   "id": "4af19883-5e9d-4923-b9c3-38e20ca8668c",
   "metadata": {},
   "outputs": [
    {
     "name": "stdout",
     "output_type": "stream",
     "text": [
      "we are learning python\n"
     ]
    }
   ],
   "source": [
    "y=\"we are learning python\"\n",
    "print(y)"
   ]
  },
  {
   "cell_type": "code",
   "execution_count": 4,
   "id": "86db7db5-6487-46a8-85f9-73fd2a9fe836",
   "metadata": {},
   "outputs": [
    {
     "name": "stdout",
     "output_type": "stream",
     "text": [
      "Variable   Type    Data/Info\n",
      "----------------------------\n",
      "a          int     10\n",
      "b          int     25\n",
      "c          str     chandan\n",
      "x          int     5\n",
      "y          str     we are learning python\n"
     ]
    }
   ],
   "source": [
    "%whos  #aisa likane se mujhe ye pata chalta hai ki abhi tk hm kitne variable liye hai aur uska value kya hai"
   ]
  },
  {
   "cell_type": "markdown",
   "id": "86c06a8b-91e5-47d9-8898-6a536d15b552",
   "metadata": {},
   "source": [
    "#rule of variable in python"
   ]
  },
  {
   "cell_type": "code",
   "execution_count": 5,
   "id": "82dfbd8e-502e-4203-bb72-0b7da084069c",
   "metadata": {},
   "outputs": [
    {
     "name": "stdout",
     "output_type": "stream",
     "text": [
      "12\n"
     ]
    }
   ],
   "source": [
    "#rule1 (A variable name must start with a letter  or the underscore character)\n",
    "apple=12\n",
    "print(apple)"
   ]
  },
  {
   "cell_type": "code",
   "execution_count": 6,
   "id": "bc545e14-1660-4803-a671-64160035abe5",
   "metadata": {},
   "outputs": [
    {
     "name": "stdout",
     "output_type": "stream",
     "text": [
      "good boy\n"
     ]
    }
   ],
   "source": [
    "chandan_thakur=\"good boy\"\n",
    "print(chandan_thakur)"
   ]
  },
  {
   "cell_type": "code",
   "execution_count": 7,
   "id": "2ea34740-ef2a-4377-b50e-64790f9e8aa0",
   "metadata": {},
   "outputs": [
    {
     "name": "stdout",
     "output_type": "stream",
     "text": [
      "5\n"
     ]
    }
   ],
   "source": [
    "_=5\n",
    "print(_)"
   ]
  },
  {
   "cell_type": "code",
   "execution_count": 8,
   "id": "0b4342f8-d10f-432e-bc23-7a003feab5b2",
   "metadata": {},
   "outputs": [
    {
     "name": "stdout",
     "output_type": "stream",
     "text": [
      "6.3\n"
     ]
    }
   ],
   "source": [
    "_z=6.3\n",
    "print(_z)"
   ]
  },
  {
   "cell_type": "code",
   "execution_count": 9,
   "id": "3ecd81ed-adba-46ea-b68e-096f3687023e",
   "metadata": {},
   "outputs": [
    {
     "ename": "SyntaxError",
     "evalue": "cannot assign to literal here. Maybe you meant '==' instead of '='? (944453239.py, line 2)",
     "output_type": "error",
     "traceback": [
      "\u001b[1;36m  Cell \u001b[1;32mIn[9], line 2\u001b[1;36m\u001b[0m\n\u001b[1;33m    2=\"chandan\"\u001b[0m\n\u001b[1;37m    ^\u001b[0m\n\u001b[1;31mSyntaxError\u001b[0m\u001b[1;31m:\u001b[0m cannot assign to literal here. Maybe you meant '==' instead of '='?\n"
     ]
    }
   ],
   "source": [
    "#rule2(A variable name cannot start with a number)\n",
    "2=\"chandan\"\n",
    "print(2)"
   ]
  },
  {
   "cell_type": "code",
   "execution_count": 11,
   "id": "772db05f-5e0b-49f2-a296-1a82e811ffe9",
   "metadata": {},
   "outputs": [
    {
     "name": "stdout",
     "output_type": "stream",
     "text": [
      "chandan\n"
     ]
    }
   ],
   "source": [
    "#to ye hmesa error deta hai\n",
    "x5=\"chandan\"\n",
    "print(x5)"
   ]
  },
  {
   "cell_type": "code",
   "execution_count": 12,
   "id": "5c402cc1-4c76-4f4c-8396-e37b07b35770",
   "metadata": {},
   "outputs": [
    {
     "name": "stdout",
     "output_type": "stream",
     "text": [
      "1\n"
     ]
    }
   ],
   "source": [
    "#to hmesa hme == equal se hm variable store ho jayega\n",
    "1==\"chandan\"\n",
    "print(1)"
   ]
  },
  {
   "cell_type": "code",
   "execution_count": 13,
   "id": "73355cbf-aaf1-4e3e-818c-2bb33bdff7d8",
   "metadata": {},
   "outputs": [
    {
     "ename": "SyntaxError",
     "evalue": "invalid decimal literal (2506143778.py, line 1)",
     "output_type": "error",
     "traceback": [
      "\u001b[1;36m  Cell \u001b[1;32mIn[13], line 1\u001b[1;36m\u001b[0m\n\u001b[1;33m    1_appplr= 254\u001b[0m\n\u001b[1;37m     ^\u001b[0m\n\u001b[1;31mSyntaxError\u001b[0m\u001b[1;31m:\u001b[0m invalid decimal literal\n"
     ]
    }
   ],
   "source": [
    "1_appplr= 254\n",
    "print(1_apple)"
   ]
  },
  {
   "cell_type": "code",
   "execution_count": 14,
   "id": "c1f20cbd-581f-476d-9da3-484f6588f755",
   "metadata": {},
   "outputs": [
    {
     "name": "stdout",
     "output_type": "stream",
     "text": [
      "254\n"
     ]
    }
   ],
   "source": [
    "apple_1= 254\n",
    "print(apple_1)"
   ]
  },
  {
   "cell_type": "markdown",
   "id": "c97e161b-67da-4839-aa0e-f19a8c4da457",
   "metadata": {},
   "source": [
    "#rule 3 ( A variable name can only cintain alpha-numeric charcters and underscores(a-z,0-9 and _)"
   ]
  },
  {
   "cell_type": "code",
   "execution_count": 19,
   "id": "b181346d-5c76-4fbf-99eb-3743f19ea42f",
   "metadata": {},
   "outputs": [
    {
     "name": "stdout",
     "output_type": "stream",
     "text": [
      "23\n"
     ]
    }
   ],
   "source": [
    "abc123nmp = 23\n",
    "print(abc123nmp)"
   ]
  },
  {
   "cell_type": "code",
   "execution_count": 20,
   "id": "00232400-ed07-4abd-91fe-85b33efae22c",
   "metadata": {},
   "outputs": [
    {
     "name": "stdout",
     "output_type": "stream",
     "text": [
      "chandan\n"
     ]
    }
   ],
   "source": [
    "abc123456789542145 = \"chandan\"\n",
    "print(abc123456789542145)"
   ]
  },
  {
   "cell_type": "code",
   "execution_count": 21,
   "id": "46848842-bb89-48d8-8d6a-5c180fd44293",
   "metadata": {},
   "outputs": [
    {
     "ename": "SyntaxError",
     "evalue": "invalid syntax (3228128797.py, line 1)",
     "output_type": "error",
     "traceback": [
      "\u001b[1;36m  Cell \u001b[1;32mIn[21], line 1\u001b[1;36m\u001b[0m\n\u001b[1;33m    $&@ = 5\u001b[0m\n\u001b[1;37m    ^\u001b[0m\n\u001b[1;31mSyntaxError\u001b[0m\u001b[1;31m:\u001b[0m invalid syntax\n"
     ]
    }
   ],
   "source": [
    "$&@ = 5              #charcters me kewal hm _ hi use kr skate hai \n",
    "print($&@)"
   ]
  },
  {
   "cell_type": "code",
   "execution_count": 22,
   "id": "b2e9816d-30f5-4ae8-a51e-68d505eea7d2",
   "metadata": {},
   "outputs": [
    {
     "name": "stdout",
     "output_type": "stream",
     "text": [
      "Variable             Type    Data/Info\n",
      "--------------------------------------\n",
      "a                    int     10\n",
      "abc123456789542145   str     chandan\n",
      "abc123nmp            int     23\n",
      "apple                int     12\n",
      "apple_1              int     254\n",
      "b                    int     25\n",
      "c                    str     chandan\n",
      "chandan_thakur       str     good boy\n",
      "x                    int     5\n",
      "x5                   str     chandan\n",
      "y                    str     we are learning python\n"
     ]
    }
   ],
   "source": [
    "%whos"
   ]
  },
  {
   "cell_type": "code",
   "execution_count": 23,
   "id": "ababa903-0d41-48f3-92c9-3c70a2c15d0c",
   "metadata": {},
   "outputs": [
    {
     "name": "stdout",
     "output_type": "stream",
     "text": [
      "chandan\n"
     ]
    }
   ],
   "source": [
    "gulshan = \"chandan\"\n",
    "print(gulshan)"
   ]
  },
  {
   "cell_type": "markdown",
   "id": "618c86dd-63f1-4cf3-b62f-f6fe7129ffed",
   "metadata": {},
   "source": [
    "#rule4( variable names are case-sensetive (age, Age and AGE are three different variable)"
   ]
  },
  {
   "cell_type": "code",
   "execution_count": 25,
   "id": "8a9505ab-26d6-452c-91ad-cb091a5250a0",
   "metadata": {},
   "outputs": [
    {
     "name": "stdout",
     "output_type": "stream",
     "text": [
      "23\n",
      "25\n",
      "65\n",
      "54\n"
     ]
    }
   ],
   "source": [
    "age = 23\n",
    "Age = 25\n",
    "AGE = 65\n",
    "aGe = 54\n",
    "print(age)\n",
    "print(Age)\n",
    "print(AGE)\n",
    "print(aGe)"
   ]
  },
  {
   "cell_type": "markdown",
   "id": "d2629816-d7e6-40bd-a2fd-08f60c5d91b3",
   "metadata": {},
   "source": [
    "Data Type in Python"
   ]
  },
  {
   "cell_type": "code",
   "execution_count": 26,
   "id": "c8d1a044-c26b-478e-87d4-a6e6402ca4e6",
   "metadata": {},
   "outputs": [
    {
     "name": "stdout",
     "output_type": "stream",
     "text": [
      "54\n",
      "<class 'int'>\n"
     ]
    },
    {
     "data": {
      "text/plain": [
       "float"
      ]
     },
     "execution_count": 26,
     "metadata": {},
     "output_type": "execute_result"
    }
   ],
   "source": [
    "a=54\n",
    "b=4.3\n",
    "print(a)\n",
    "print(type(a))\n",
    "type(b)"
   ]
  },
  {
   "cell_type": "code",
   "execution_count": 28,
   "id": "a223d607-f9f7-4d74-8bb4-0776e0f0f127",
   "metadata": {},
   "outputs": [
    {
     "name": "stdout",
     "output_type": "stream",
     "text": [
      "(2+3j)\n",
      "<class 'complex'>\n"
     ]
    },
    {
     "data": {
      "text/plain": [
       "complex"
      ]
     },
     "execution_count": 28,
     "metadata": {},
     "output_type": "execute_result"
    }
   ],
   "source": [
    "v=2+3j\n",
    "print(v)\n",
    "print(type(v))\n",
    "type(v)"
   ]
  },
  {
   "cell_type": "code",
   "execution_count": 29,
   "id": "e58a8541-6221-41f0-8d41-3c7243675fa3",
   "metadata": {
    "scrolled": true
   },
   "outputs": [
    {
     "name": "stdout",
     "output_type": "stream",
     "text": [
      "[23, 65, 48, 4]\n",
      "<class 'list'>\n"
     ]
    },
    {
     "data": {
      "text/plain": [
       "list"
      ]
     },
     "execution_count": 29,
     "metadata": {},
     "output_type": "execute_result"
    }
   ],
   "source": [
    "num=[23,65,48,4,]\n",
    "print(num)\n",
    "print(type(num))\n",
    "type(num)"
   ]
  },
  {
   "cell_type": "code",
   "execution_count": 1,
   "id": "c95620b1-c8f3-439d-97a9-3ebd64d5b434",
   "metadata": {},
   "outputs": [
    {
     "name": "stdout",
     "output_type": "stream",
     "text": [
      "<class 'bool'>\n"
     ]
    },
    {
     "data": {
      "text/plain": [
       "bool"
      ]
     },
     "execution_count": 1,
     "metadata": {},
     "output_type": "execute_result"
    }
   ],
   "source": [
    "num1 = True\n",
    "print(type(num1))\n",
    "type(num1)"
   ]
  },
  {
   "cell_type": "code",
   "execution_count": 34,
   "id": "6ada19f9-52d8-4318-8512-ca42f978a67d",
   "metadata": {},
   "outputs": [
    {
     "name": "stdout",
     "output_type": "stream",
     "text": [
      "<class 'bool'>\n"
     ]
    },
    {
     "data": {
      "text/plain": [
       "bool"
      ]
     },
     "execution_count": 34,
     "metadata": {},
     "output_type": "execute_result"
    }
   ],
   "source": [
    "num1 = Fal\n",
    "print(type(num1))\n",
    "type(num1)"
   ]
  },
  {
   "cell_type": "markdown",
   "id": "29b03139-49e5-4453-9542-d04f4638ffbf",
   "metadata": {},
   "source": [
    "Rule5 ( A variable name cannot be any of the Python keywords)"
   ]
  },
  {
   "cell_type": "code",
   "execution_count": 2,
   "id": "3d1954a2-599b-4734-9baf-de7dc21801d8",
   "metadata": {},
   "outputs": [
    {
     "name": "stdout",
     "output_type": "stream",
     "text": [
      "5\n"
     ]
    }
   ],
   "source": [
    "x=5\n",
    "print(x)"
   ]
  },
  {
   "cell_type": "code",
   "execution_count": null,
   "id": "075f29ae-773e-422f-bbc6-9afe2db11b42",
   "metadata": {},
   "outputs": [],
   "source": []
  }
 ],
 "metadata": {
  "kernelspec": {
   "display_name": "Python 3 (ipykernel)",
   "language": "python",
   "name": "python3"
  },
  "language_info": {
   "codemirror_mode": {
    "name": "ipython",
    "version": 3
   },
   "file_extension": ".py",
   "mimetype": "text/x-python",
   "name": "python",
   "nbconvert_exporter": "python",
   "pygments_lexer": "ipython3",
   "version": "3.12.7"
  }
 },
 "nbformat": 4,
 "nbformat_minor": 5
}
