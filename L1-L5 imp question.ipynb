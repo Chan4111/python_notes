{
 "cells": [
  {
   "cell_type": "markdown",
   "id": "53684aa7-1a3f-4860-89cc-e2e084fa46f5",
   "metadata": {},
   "source": [
    "### practice Question"
   ]
  },
  {
   "cell_type": "code",
   "execution_count": null,
   "id": "3d0ef495-38cc-4ec1-8ee2-90b2c9a18385",
   "metadata": {},
   "outputs": [],
   "source": [
    "You are developing a program for a math competition where participants \n",
    "need to solve mathematical and provide the result.\n",
    "You want to use python to automate the evaluation processs.\n",
    "Here's how you could approachit:\n",
    "1) Take input from the participant to enter a mathematical expression\n",
    "2) evaluate the expression entered by the participant and obtain the result\n",
    "3)Display the result to the participant."
   ]
  },
  {
   "cell_type": "code",
   "execution_count": 4,
   "id": "6d1565b6-b87c-4afd-a81e-cad3ede269da",
   "metadata": {},
   "outputs": [
    {
     "name": "stdin",
     "output_type": "stream",
     "text": [
      "Enter a mathematical expression 22*549*78+24/74\n"
     ]
    },
    {
     "name": "stdout",
     "output_type": "stream",
     "text": [
      "The result to giving expression by participant: 942084.3243243244\n",
      "Thank you for paticipant in Mathematical Expession\n"
     ]
    }
   ],
   "source": [
    "Exp = (input(\"Enter a mathematical expression\"))\n",
    "result = eval(Exp)\n",
    "print(\"The result to giving expression by participant:\",result)\n",
    "print(\"Thank you for paticipant in Mathematical Expession\")"
   ]
  },
  {
   "cell_type": "code",
   "execution_count": null,
   "id": "f7725b23-ba2c-4b7d-bb7a-fdc45fa6a9d4",
   "metadata": {},
   "outputs": [],
   "source": []
  }
 ],
 "metadata": {
  "kernelspec": {
   "display_name": "Python 3 (ipykernel)",
   "language": "python",
   "name": "python3"
  },
  "language_info": {
   "codemirror_mode": {
    "name": "ipython",
    "version": 3
   },
   "file_extension": ".py",
   "mimetype": "text/x-python",
   "name": "python",
   "nbconvert_exporter": "python",
   "pygments_lexer": "ipython3",
   "version": "3.12.7"
  }
 },
 "nbformat": 4,
 "nbformat_minor": 5
}
