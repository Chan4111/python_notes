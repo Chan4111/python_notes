{
 "cells": [
  {
   "cell_type": "markdown",
   "id": "dcaf00a7-f6dc-4145-b9c4-cc1e5656d083",
   "metadata": {},
   "source": [
    "### lecture 14"
   ]
  },
  {
   "cell_type": "markdown",
   "id": "8af37b0a-bc60-470a-a6bd-89fba86c66ca",
   "metadata": {},
   "source": [
    "#### list part 1"
   ]
  },
  {
   "cell_type": "markdown",
   "id": "e29654e5-14f2-4bca-99e7-3fa08859b768",
   "metadata": {},
   "source": [
    "###### creating a list"
   ]
  },
  {
   "cell_type": "code",
   "execution_count": 5,
   "id": "b00d47f2-2620-47c8-a138-e79304b83d81",
   "metadata": {},
   "outputs": [
    {
     "name": "stdout",
     "output_type": "stream",
     "text": [
      "['a', 'b', 'c']\n",
      "<class 'list'>\n"
     ]
    }
   ],
   "source": [
    "my_list= [\"a\",\"b\",\"c\"]\n",
    "print(my_list)\n",
    "print(type(my_list))\n"
   ]
  },
  {
   "cell_type": "markdown",
   "id": "f1d994ca-9a36-4105-8d9c-416ed9f64bcc",
   "metadata": {},
   "source": [
    "### properties of LIST"
   ]
  },
  {
   "cell_type": "markdown",
   "id": "fc500ae6-2e28-49f3-b93d-a179977473f4",
   "metadata": {},
   "source": [
    "### 1 Ordered"
   ]
  },
  {
   "cell_type": "code",
   "execution_count": 7,
   "id": "b7dbda01-00e6-4b58-b9fa-f165be4f64fe",
   "metadata": {},
   "outputs": [
    {
     "name": "stdout",
     "output_type": "stream",
     "text": [
      "apple\n"
     ]
    }
   ],
   "source": [
    "fruits = [\"apple\",\"orange\",\"cherry\"]\n",
    "print(fruits[0])"
   ]
  },
  {
   "cell_type": "code",
   "execution_count": 9,
   "id": "1a418b5d-2976-44fb-b93f-fa750bb57c42",
   "metadata": {},
   "outputs": [
    {
     "name": "stdout",
     "output_type": "stream",
     "text": [
      "orange\n"
     ]
    }
   ],
   "source": [
    "fruits = [\"apple\",\"orange\",\"cherry\"]\n",
    "print(fruits[1])"
   ]
  },
  {
   "cell_type": "code",
   "execution_count": 11,
   "id": "1ba380ab-7ece-4d4a-88ee-090e7b083204",
   "metadata": {},
   "outputs": [
    {
     "name": "stdout",
     "output_type": "stream",
     "text": [
      "cherry\n"
     ]
    }
   ],
   "source": [
    "fruits = [\"apple\",\"orsnge\",\"cherry\"]\n",
    "print(fruits[2])"
   ]
  },
  {
   "cell_type": "code",
   "execution_count": 12,
   "id": "464ac05e-b06c-4ec5-9c17-c3ce7e44db42",
   "metadata": {},
   "outputs": [
    {
     "name": "stdout",
     "output_type": "stream",
     "text": [
      "apple orsnge cherry\n"
     ]
    }
   ],
   "source": [
    "fruits = [\"apple\",\"orsnge\",\"cherry\"]\n",
    "print(fruits[0],fruits[1],fruits[2])"
   ]
  },
  {
   "cell_type": "markdown",
   "id": "914f5aa8-05b2-497b-a082-8b6257cd49fc",
   "metadata": {},
   "source": [
    "#### 2 Hetrogenous"
   ]
  },
  {
   "cell_type": "code",
   "execution_count": 14,
   "id": "15ca1bf5-b4ea-496e-912e-f9eb34634618",
   "metadata": {},
   "outputs": [
    {
     "name": "stdout",
     "output_type": "stream",
     "text": [
      "3.14\n"
     ]
    }
   ],
   "source": [
    "mixed_list = [1,\"hello\",3.14,[1,2,3]]\n",
    "print(mixed_list[2])"
   ]
  },
  {
   "cell_type": "code",
   "execution_count": 15,
   "id": "8efd2727-868c-494a-87bf-e7ad7eb2cd23",
   "metadata": {},
   "outputs": [
    {
     "name": "stdout",
     "output_type": "stream",
     "text": [
      "[1, 2, 3]\n"
     ]
    }
   ],
   "source": [
    "mixed_list = [1,\"hello\",3.14,[1,2,3]]\n",
    "print(mixed_list[3])"
   ]
  },
  {
   "cell_type": "markdown",
   "id": "b4c813e4-3fbf-4a84-bc2d-2e4157661f3e",
   "metadata": {},
   "source": [
    "### List items- data types"
   ]
  },
  {
   "cell_type": "code",
   "execution_count": 17,
   "id": "471cad02-4e24-4d85-962c-75fd61a4fc6d",
   "metadata": {},
   "outputs": [
    {
     "name": "stdout",
     "output_type": "stream",
     "text": [
      "['apple', 'banana']\n"
     ]
    }
   ],
   "source": [
    "list1 = [\"apple\",\"banana\"]\n",
    "list2 = [2.3,2.5]\n",
    "list3 = [True, False]\n",
    "print(list1)"
   ]
  },
  {
   "cell_type": "markdown",
   "id": "3ba8a545-334c-4cdf-bbe1-76e7a454409d",
   "metadata": {},
   "source": [
    "### 3. Indexed"
   ]
  },
  {
   "cell_type": "code",
   "execution_count": 20,
   "id": "e721760a-512a-4826-951f-5009f2f0180a",
   "metadata": {},
   "outputs": [
    {
     "name": "stdout",
     "output_type": "stream",
     "text": [
      "cat\n"
     ]
    }
   ],
   "source": [
    "animals = ['cat','dog','bird','fish']\n",
    "print(animals[0])"
   ]
  },
  {
   "cell_type": "code",
   "execution_count": 21,
   "id": "73c74a52-dfc3-4c72-8f5b-99dc774af8ea",
   "metadata": {},
   "outputs": [
    {
     "name": "stdout",
     "output_type": "stream",
     "text": [
      "fish\n"
     ]
    }
   ],
   "source": [
    "animals = ['cat','dog','bird','fish']\n",
    "print(animals[-1])"
   ]
  },
  {
   "cell_type": "markdown",
   "id": "9e96b68c-2b6e-4150-9c3c-45cf73d153fd",
   "metadata": {},
   "source": [
    "### 4 slicing"
   ]
  },
  {
   "cell_type": "code",
   "execution_count": 23,
   "id": "656c7c1c-f947-481d-86fd-dce7bf485884",
   "metadata": {},
   "outputs": [
    {
     "name": "stdout",
     "output_type": "stream",
     "text": [
      "[10, 11, 12, 13]\n"
     ]
    }
   ],
   "source": [
    "numbers = [10,11,12,13,14,15,16]\n",
    "print(numbers[0:4])"
   ]
  },
  {
   "cell_type": "markdown",
   "id": "53160abc-bdf5-4af9-8d9a-52695e661231",
   "metadata": {},
   "source": [
    "### Omitting slicing"
   ]
  },
  {
   "cell_type": "code",
   "execution_count": 24,
   "id": "0efce68b-43ca-4f57-9c86-9c623c2e16df",
   "metadata": {},
   "outputs": [
    {
     "name": "stdout",
     "output_type": "stream",
     "text": [
      "[10, 11, 12, 13, 14, 15, 16]\n"
     ]
    }
   ],
   "source": [
    "numbers = [10,11,12,13,14,15,16]\n",
    "print(numbers[:])"
   ]
  },
  {
   "cell_type": "markdown",
   "id": "8981a1ad-dc19-49a0-aac0-59f69ee852e4",
   "metadata": {},
   "source": [
    "### negative indexing"
   ]
  },
  {
   "cell_type": "code",
   "execution_count": 25,
   "id": "6ffc943a-1868-437e-b1df-6d5bf1c1a172",
   "metadata": {},
   "outputs": [
    {
     "name": "stdout",
     "output_type": "stream",
     "text": [
      "[12, 13, 14, 15, 16]\n"
     ]
    }
   ],
   "source": [
    "numbers = [10,11,12,13,14,15,16]\n",
    "print(numbers[-5:])"
   ]
  },
  {
   "cell_type": "markdown",
   "id": "2750f21d-62fc-4a22-a365-c7abe1bf752d",
   "metadata": {},
   "source": [
    "### indexing with step"
   ]
  },
  {
   "cell_type": "code",
   "execution_count": 26,
   "id": "cc6d550a-c577-40e5-a59c-0e440f067abe",
   "metadata": {},
   "outputs": [
    {
     "name": "stdout",
     "output_type": "stream",
     "text": [
      "[10, 12, 14, 16]\n"
     ]
    }
   ],
   "source": [
    "numbers = [10,11,12,13,14,15,16]\n",
    "print(numbers[::2])"
   ]
  },
  {
   "cell_type": "code",
   "execution_count": 27,
   "id": "352bb786-f66f-4ddd-af77-6b574e83299d",
   "metadata": {},
   "outputs": [
    {
     "name": "stdout",
     "output_type": "stream",
     "text": [
      "[10, 13, 16]\n"
     ]
    }
   ],
   "source": [
    "numbers = [10,11,12,13,14,15,16]\n",
    "print(numbers[::3])"
   ]
  },
  {
   "cell_type": "markdown",
   "id": "796ab782-b6ec-407b-894a-8806f3152537",
   "metadata": {},
   "source": [
    "## Practice question"
   ]
  },
  {
   "cell_type": "markdown",
   "id": "404ee948-c69d-473d-9535-9a676727a586",
   "metadata": {},
   "source": [
    "###### question 1"
   ]
  },
  {
   "cell_type": "code",
   "execution_count": null,
   "id": "ca79d0b7-3f3a-43f8-8b8d-2b10c4adb695",
   "metadata": {},
   "outputs": [],
   "source": [
    "Give the list scores = [55,89,76,65,93,50,72],\n",
    "write a python experession to create a \n",
    "new list thai contains only the scores that are above 70."
   ]
  },
  {
   "cell_type": "code",
   "execution_count": 29,
   "id": "e11bc1a4-d3a9-41a3-9ee1-4ea1675492ca",
   "metadata": {},
   "outputs": [
    {
     "name": "stdout",
     "output_type": "stream",
     "text": [
      "[89, 76, 93, 72]\n"
     ]
    }
   ],
   "source": [
    "scores = [55,89,76,65,93,50,72]\n",
    "high_score =[]\n",
    "\n",
    "for score in scores:\n",
    "    if score>70:\n",
    "        high_score.append(score)\n",
    "    else:\n",
    "        pass\n",
    "\n",
    "print(high_score)\n"
   ]
  },
  {
   "cell_type": "markdown",
   "id": "b28dccba-0e44-4ec2-bc21-65342929b11b",
   "metadata": {},
   "source": [
    "###### question 2"
   ]
  },
  {
   "cell_type": "code",
   "execution_count": null,
   "id": "c0d4bf8e-004b-4c03-a648-25eb904bf569",
   "metadata": {},
   "outputs": [],
   "source": [
    "Give the List data =[1,2,3,4,5,6,7,8,9,10],\n",
    "Write a python expression to get the sum \n",
    "of the first five elements and another \n",
    "expression to reverse the entire List."
   ]
  },
  {
   "cell_type": "code",
   "execution_count": null,
   "id": "a16fd678-8024-4285-bf01-50214902b546",
   "metadata": {},
   "outputs": [],
   "source": [
    "data =[1,2,3,4,5,6,7,8,9,10]\n"
   ]
  },
  {
   "cell_type": "code",
   "execution_count": null,
   "id": "026ddf06-dd8c-4c7d-b1f7-6090fb5e7a60",
   "metadata": {},
   "outputs": [],
   "source": []
  },
  {
   "cell_type": "code",
   "execution_count": null,
   "id": "7d06b2cc-4009-4a4f-a73e-acd75ac6c116",
   "metadata": {},
   "outputs": [],
   "source": []
  },
  {
   "cell_type": "code",
   "execution_count": null,
   "id": "9e5deb8a-4517-4e69-ad20-685bc12a7d98",
   "metadata": {},
   "outputs": [],
   "source": []
  },
  {
   "cell_type": "code",
   "execution_count": 30,
   "id": "f8642893-86e6-4ea8-b5d9-bfa4763a4728",
   "metadata": {},
   "outputs": [
    {
     "ename": "SyntaxError",
     "evalue": "invalid syntax (3417491376.py, line 1)",
     "output_type": "error",
     "traceback": [
      "\u001b[1;36m  Cell \u001b[1;32mIn[30], line 1\u001b[1;36m\u001b[0m\n\u001b[1;33m    Given the list data = [1,2,3,4,5,6,7,8,9,10] ,\u001b[0m\n\u001b[1;37m          ^\u001b[0m\n\u001b[1;31mSyntaxError\u001b[0m\u001b[1;31m:\u001b[0m invalid syntax\n"
     ]
    }
   ],
   "source": [
    "Given the list data = [1,2,3,4,5,6,7,8,9,10] ,\n",
    "write python expression to:\n",
    "create anew list with the first half and the second half swapped.\n",
    "print the sum of the last three elements.\n",
    "\n",
    "input-number = [1,2,3,4,5,6,7,8,9,10]\n",
    "output-number = [6,7,8,9,10,1,2,3,4,5]"
   ]
  },
  {
   "cell_type": "code",
   "execution_count": null,
   "id": "4196f7ff-8b8e-4184-b77d-24c69901f218",
   "metadata": {},
   "outputs": [],
   "source": []
  },
  {
   "cell_type": "code",
   "execution_count": null,
   "id": "559f8c09-ed77-4fce-8917-43a243907fb9",
   "metadata": {},
   "outputs": [],
   "source": []
  }
 ],
 "metadata": {
  "kernelspec": {
   "display_name": "Python 3 (ipykernel)",
   "language": "python",
   "name": "python3"
  },
  "language_info": {
   "codemirror_mode": {
    "name": "ipython",
    "version": 3
   },
   "file_extension": ".py",
   "mimetype": "text/x-python",
   "name": "python",
   "nbconvert_exporter": "python",
   "pygments_lexer": "ipython3",
   "version": "3.12.7"
  }
 },
 "nbformat": 4,
 "nbformat_minor": 5
}
