{
 "cells": [
  {
   "cell_type": "markdown",
   "id": "a65bf233-f840-4f66-8b48-b378da51472d",
   "metadata": {},
   "source": [
    "## lecture 11 practics question"
   ]
  },
  {
   "cell_type": "code",
   "execution_count": 2,
   "id": "dfdcf9fd-9dac-4e0e-8a81-116f739dd7f2",
   "metadata": {},
   "outputs": [
    {
     "name": "stdout",
     "output_type": "stream",
     "text": [
      "you have got B grade\n",
      "you have got A grade\n",
      "you have got B grade\n",
      "you have got C grade\n",
      "you have got D grade\n",
      "you have got A grade\n",
      "you have got D grade\n",
      "you have got D grade\n",
      "you have got B grade\n"
     ]
    }
   ],
   "source": [
    "def grade_distribution(grades):\n",
    "    for grade in grades:\n",
    "        if 90<=grade<=100:\n",
    "            print(\"you have got A grade\")\n",
    "        elif 80<=grade<=89:\n",
    "            print(\"you have got B grade\")\n",
    "        elif 70<=grade<=79:\n",
    "            print(\"you have got C grade\")\n",
    "        elif 60<=grade<=69:\n",
    "            print(\"you have got D grade\")\n",
    "        else:\n",
    "            print(\"you have got E grade\")\n",
    "    return\n",
    "\n",
    "\n",
    "grades=[85,92,88,74,63,95,65,66,87,]\n",
    "grade_distribution(grades)"
   ]
  },
  {
   "cell_type": "code",
   "execution_count": 4,
   "id": "1304c126-b10e-43fe-bcfb-5c9e7be231b9",
   "metadata": {},
   "outputs": [
    {
     "name": "stdout",
     "output_type": "stream",
     "text": [
      "you have got E grade\n",
      "you have got B grade\n",
      "you have got A grade\n",
      "you have got E grade\n",
      "you have got D grade\n",
      "you have got C grade\n",
      "you have got C grade\n"
     ]
    }
   ],
   "source": [
    "grades=[10,87,98,845,67,75,74]\n",
    "grade_distribution(grades)"
   ]
  },
  {
   "cell_type": "markdown",
   "id": "b32bcc13-577d-45ee-9040-35b0bf81b2e6",
   "metadata": {},
   "source": [
    "### QUESTION 2"
   ]
  },
  {
   "cell_type": "raw",
   "id": "8950edad-2069-44d6-aba3-290067e2b2c5",
   "metadata": {},
   "source": [
    "You're creatin a number guessing game where the \n",
    "computer generates 1and 100 ,and the player has to guess it.\n",
    "\n",
    "write Python code to generate a random number between 1 and 100.\n",
    "Use control flow statements and loops to allow the player to guess \n",
    "the number and provide feedback(too high, too low, or correct).\n",
    "Define a user-defined function to encapsulate the ganelogic and call \n",
    "this function to play the game."
   ]
  },
  {
   "cell_type": "code",
   "execution_count": 16,
   "id": "d9672e8f-abc9-418a-a789-998207a1e6b3",
   "metadata": {},
   "outputs": [
    {
     "name": "stdout",
     "output_type": "stream",
     "text": [
      "98\n",
      "welcome to the number guessing game\n",
      "I have choosen the number between 1 to 100 . can you guess it?\n"
     ]
    },
    {
     "name": "stdin",
     "output_type": "stream",
     "text": [
      "Enter your guess 54\n"
     ]
    },
    {
     "name": "stdout",
     "output_type": "stream",
     "text": [
      "Too low, try again\n"
     ]
    },
    {
     "name": "stdin",
     "output_type": "stream",
     "text": [
      "Enter your guess 24\n"
     ]
    },
    {
     "name": "stdout",
     "output_type": "stream",
     "text": [
      "Too low, try again\n"
     ]
    },
    {
     "name": "stdin",
     "output_type": "stream",
     "text": [
      "Enter your guess 98\n"
     ]
    },
    {
     "name": "stdout",
     "output_type": "stream",
     "text": [
      "Congratuations,you have guessed the correct number\n",
      "the number of attempts in gussing the correct number is 3\n"
     ]
    }
   ],
   "source": [
    "import random\n",
    "\n",
    "def number_guessing_game():\n",
    "    secret_number= random.randint(1 ,100)\n",
    "    print(secret_number)\n",
    "\n",
    "    print(\"welcome to the number guessing game\")\n",
    "    print(\"I have choosen the number between 1 to 100 . can you guess it?\")\n",
    "\n",
    "    attempts =0\n",
    "    guess = None\n",
    "\n",
    "    while guess != secret_number:\n",
    "        guess = int(input(\"Enter your guess\"))\n",
    "        attempts =attempts+1\n",
    "\n",
    "        if guess< secret_number:\n",
    "            print(\"Too low, try again\")\n",
    "\n",
    "        elif guess > secret_number:\n",
    "            print(\"too high, try again\")\n",
    "\n",
    "        else:\n",
    "            print(\"Congratuations,you have guessed the correct number\")\n",
    "            print(\"the number of attempts in gussing the correct number is\",attempts)\n",
    "\n",
    "number_guessing_game()"
   ]
  },
  {
   "cell_type": "markdown",
   "id": "bbdbd48b-888a-43b3-972b-f74d85c5e70b",
   "metadata": {},
   "source": [
    "### Question 3"
   ]
  },
  {
   "cell_type": "code",
   "execution_count": null,
   "id": "42109afc-cd25-47eb-8da6-fc4610214161",
   "metadata": {},
   "outputs": [],
   "source": [
    "You're tasked with creating a program\n",
    "to calculate the sum of squares of the \n",
    "first n natural numbers,\n",
    "where n is entered bythe user.\n",
    "\n",
    "write Python code to prompt the user to enter a postive integers n.\n",
    "use a loop to calcualate the sum of\n",
    "squares of the first n natural numbers.\n",
    "Definrs a user function to encapsulate\n",
    "the sum of square calculation to logic\n",
    "and call this function with the user's input."
   ]
  },
  {
   "cell_type": "code",
   "execution_count": 25,
   "id": "cd76bc61-8f36-4d61-a40b-bd961f0319ec",
   "metadata": {},
   "outputs": [
    {
     "name": "stdin",
     "output_type": "stream",
     "text": [
      "Enter  a positive integers: 5\n"
     ]
    },
    {
     "name": "stdout",
     "output_type": "stream",
     "text": [
      "The sum of squares of the first 5 natural number is:55\n"
     ]
    }
   ],
   "source": [
    "def sum_of_squares(n):\n",
    "    \"\"\" Calculate the sum of squares of the first n natural numbers.\"\"\"\n",
    "    total=0\n",
    "    for i in range(1, n+1):\n",
    "        total+= i**2\n",
    "    return total\n",
    "def main():\n",
    "    #prompt the user to enter a positive integers n\n",
    "    n= int(input(\"Enter  a positive integers:\"))\n",
    "    #calculate the sum of squares\n",
    "    result = sum_of_squares(n)\n",
    "    print(f\"The sum of squares of the first {n} natural number is:{result}\")\n",
    "\n",
    "#call the main function to execute the program\n",
    "main()"
   ]
  },
  {
   "cell_type": "code",
   "execution_count": 26,
   "id": "9fa42bd6-4c51-4b38-9114-39b8fc9de232",
   "metadata": {},
   "outputs": [
    {
     "name": "stdin",
     "output_type": "stream",
     "text": [
      "Enter  a positive integers: 2\n"
     ]
    },
    {
     "name": "stdout",
     "output_type": "stream",
     "text": [
      "The sum of squares of the first 2 natural number is:5\n"
     ]
    }
   ],
   "source": [
    "main()"
   ]
  },
  {
   "cell_type": "code",
   "execution_count": null,
   "id": "2e53cadb-8038-4acd-8cb8-b8c972cf7f44",
   "metadata": {},
   "outputs": [],
   "source": []
  }
 ],
 "metadata": {
  "kernelspec": {
   "display_name": "Python 3 (ipykernel)",
   "language": "python",
   "name": "python3"
  },
  "language_info": {
   "codemirror_mode": {
    "name": "ipython",
    "version": 3
   },
   "file_extension": ".py",
   "mimetype": "text/x-python",
   "name": "python",
   "nbconvert_exporter": "python",
   "pygments_lexer": "ipython3",
   "version": "3.12.7"
  }
 },
 "nbformat": 4,
 "nbformat_minor": 5
}
