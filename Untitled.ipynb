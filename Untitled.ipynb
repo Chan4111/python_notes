{
 "cells": [
  {
   "cell_type": "markdown",
   "id": "f36b9462-6a07-4fae-8b15-9adb94fc957c",
   "metadata": {},
   "source": [
    "##### user definr function"
   ]
  },
  {
   "cell_type": "markdown",
   "id": "c4620b47-a4e0-40a4-adec-d01029e48325",
   "metadata": {},
   "source": [
    "## creating and calling a function"
   ]
  },
  {
   "cell_type": "code",
   "execution_count": 4,
   "id": "d533a35f-a914-42c7-b748-d74b8d1d01e7",
   "metadata": {},
   "outputs": [
    {
     "name": "stdout",
     "output_type": "stream",
     "text": [
      "hello i am chandan\n"
     ]
    }
   ],
   "source": [
    "def my_function():\n",
    "    print(\"hello i am chandan\")\n",
    "\n",
    "my_function()"
   ]
  },
  {
   "cell_type": "code",
   "execution_count": 5,
   "id": "4c4ed84b-5378-44d8-afcb-034a01615204",
   "metadata": {},
   "outputs": [
    {
     "name": "stdin",
     "output_type": "stream",
     "text": [
      "enter your name chandan\n",
      "enter the unit os electricity you have consumed 100\n"
     ]
    },
    {
     "name": "stdout",
     "output_type": "stream",
     "text": [
      "total amount of bill you need to pay is 1000\n",
      "the last date of the bill payment is on next week sunday\n",
      "after deadline , you need to pay rs 1000 as a fine \n",
      "pay your bill soon\n"
     ]
    },
    {
     "name": "stdin",
     "output_type": "stream",
     "text": [
      "enter your name gulahan\n",
      "enter the unit os electricity you have consumed 200\n"
     ]
    },
    {
     "name": "stdout",
     "output_type": "stream",
     "text": [
      "total amount of bill you need to pay is 2000\n",
      "the last date of the bill payment is on next week sunday\n",
      "after deadline , you need to pay rs 1000 as a fine \n",
      "pay your bill soon\n"
     ]
    },
    {
     "name": "stdin",
     "output_type": "stream",
     "text": [
      "enter your name prashant\n",
      "enter the unit os electricity you have consumed 300\n"
     ]
    },
    {
     "name": "stdout",
     "output_type": "stream",
     "text": [
      "total amount of bill you need to pay is 3000\n",
      "the last date of the bill payment is on next week sunday\n",
      "after deadline , you need to pay rs 1000 as a fine \n",
      "pay your bill soon\n"
     ]
    }
   ],
   "source": [
    "def details_bill():\n",
    "    print(\"the last date of the bill payment is on next week sunday\")\n",
    "    print(\"after deadline , you need to pay rs 1000 as a fine \")\n",
    "    print(\"pay your bill soon\")\n",
    "\n",
    "for i in range(3):\n",
    "    a=input(\"enter your name\")\n",
    "    b=int(input(\"enter the unit os electricity you have consumed\"))\n",
    "    bill=b*10\n",
    "    print(\"total amount of bill you need to pay is\",bill)\n",
    "    details_bill()"
   ]
  },
  {
   "cell_type": "markdown",
   "id": "5d394a85-d8b1-4372-95fb-b6f479220183",
   "metadata": {},
   "source": [
    "### Aruguments"
   ]
  },
  {
   "cell_type": "markdown",
   "id": "230c83be-59a1-4cad-80b0-b196428202a1",
   "metadata": {},
   "source": [
    "#### Create a function ,which checks the number is even or odd"
   ]
  },
  {
   "cell_type": "code",
   "execution_count": 8,
   "id": "d51c356e-9851-48ee-b499-4a30d36dd930",
   "metadata": {},
   "outputs": [
    {
     "name": "stdin",
     "output_type": "stream",
     "text": [
      "Enter the value ,if you want to check even or odd 55\n"
     ]
    },
    {
     "name": "stdout",
     "output_type": "stream",
     "text": [
      "the number is odd\n"
     ]
    }
   ],
   "source": [
    "def chech_even_odd(number):\n",
    "    if number%2==0:\n",
    "        print(\"the number is even\")\n",
    "    else:\n",
    "        print(\"the number is odd\")\n",
    "\n",
    "number=int(input(\"Enter the value ,if you want to check even or odd\"))\n",
    "chech_even_odd(number)"
   ]
  },
  {
   "cell_type": "code",
   "execution_count": 10,
   "id": "3257f3af-8b46-4661-97b7-6d630a94c8c1",
   "metadata": {},
   "outputs": [
    {
     "name": "stdin",
     "output_type": "stream",
     "text": [
      "Enter the value ,if you want to check even or odd 12\n"
     ]
    },
    {
     "name": "stdout",
     "output_type": "stream",
     "text": [
      "the number is even\n"
     ]
    }
   ],
   "source": [
    "number=int(input(\"Enter the value ,if you want to check even or odd\"))\n",
    "chech_even_odd(number)"
   ]
  },
  {
   "cell_type": "code",
   "execution_count": 11,
   "id": "e09bb9fe-89b7-4d70-a9a9-44570eb0c0c5",
   "metadata": {},
   "outputs": [
    {
     "name": "stdin",
     "output_type": "stream",
     "text": [
      "Enter the value ,if you want to check even or odd 78\n"
     ]
    },
    {
     "name": "stdout",
     "output_type": "stream",
     "text": [
      "the number is even\n"
     ]
    }
   ],
   "source": [
    "number=int(input(\"Enter the value ,if you want to check even or odd\"))\n",
    "chech_even_odd(number)"
   ]
  },
  {
   "cell_type": "markdown",
   "id": "d8f3f746-8232-4bd3-ba58-81dcda7f280c",
   "metadata": {},
   "source": [
    "### 2 Argument"
   ]
  },
  {
   "cell_type": "code",
   "execution_count": 12,
   "id": "1a79a2f7-6a55-476a-832e-50c6b68c6062",
   "metadata": {},
   "outputs": [
    {
     "name": "stdout",
     "output_type": "stream",
     "text": [
      "chandan thakur\n"
     ]
    }
   ],
   "source": [
    "def my_name(fname,lname):\n",
    "    print(fname+\" \"+lname)\n",
    "my_name(\"chandan\", \"thakur\")"
   ]
  },
  {
   "cell_type": "code",
   "execution_count": 13,
   "id": "28a35b02-f2e8-421b-9f08-eeeecf99ccdd",
   "metadata": {},
   "outputs": [
    {
     "name": "stdin",
     "output_type": "stream",
     "text": [
      "Enter your first name chandan\n",
      "Enter your last name kumar\n"
     ]
    },
    {
     "name": "stdout",
     "output_type": "stream",
     "text": [
      "chandan kumar\n"
     ]
    }
   ],
   "source": [
    "fname=input(\"Enter your first name\")\n",
    "lname=input(\"Enter your last name\")\n",
    "my_name(fname,lname)"
   ]
  },
  {
   "cell_type": "code",
   "execution_count": 14,
   "id": "eb585c62-b4ad-4234-9b92-aeb635f6c49f",
   "metadata": {},
   "outputs": [
    {
     "name": "stdin",
     "output_type": "stream",
     "text": [
      "Enter your first name gulshan\n",
      "Enter your last name kumar\n"
     ]
    },
    {
     "name": "stdout",
     "output_type": "stream",
     "text": [
      "gulshan kumar\n"
     ]
    },
    {
     "name": "stdin",
     "output_type": "stream",
     "text": [
      "Enter your first name santosh \n",
      "Enter your last name thakur\n"
     ]
    },
    {
     "name": "stdout",
     "output_type": "stream",
     "text": [
      "santosh  thakur\n"
     ]
    },
    {
     "name": "stdin",
     "output_type": "stream",
     "text": [
      "Enter your first name kundan\n",
      "Enter your last name kumar\n"
     ]
    },
    {
     "name": "stdout",
     "output_type": "stream",
     "text": [
      "kundan kumar\n"
     ]
    },
    {
     "name": "stdin",
     "output_type": "stream",
     "text": [
      "Enter your first name rohit\n",
      "Enter your last name yadav\n"
     ]
    },
    {
     "name": "stdout",
     "output_type": "stream",
     "text": [
      "rohit yadav\n"
     ]
    },
    {
     "name": "stdin",
     "output_type": "stream",
     "text": [
      "Enter your first name mohan\n",
      "Enter your last name thakur\n"
     ]
    },
    {
     "name": "stdout",
     "output_type": "stream",
     "text": [
      "mohan thakur\n"
     ]
    }
   ],
   "source": [
    "for i in range(5):\n",
    "    fname=input(\"Enter your first name\")\n",
    "    lname=input(\"Enter your last name\")\n",
    "    my_name(fname,lname)\n",
    "    "
   ]
  },
  {
   "cell_type": "code",
   "execution_count": 15,
   "id": "1204a776-e975-4972-909c-388dd666cdc6",
   "metadata": {},
   "outputs": [
    {
     "ename": "SyntaxError",
     "evalue": "incomplete input (543994505.py, line 20)",
     "output_type": "error",
     "traceback": [
      "\u001b[1;36m  Cell \u001b[1;32mIn[15], line 20\u001b[1;36m\u001b[0m\n\u001b[1;33m    \u001b[0m\n\u001b[1;37m    ^\u001b[0m\n\u001b[1;31mSyntaxError\u001b[0m\u001b[1;31m:\u001b[0m incomplete input\n"
     ]
    }
   ],
   "source": [
    "def calculate_exam_statistics(exam_scores):\n",
    "    num_students = len(exam_scores)\n",
    "    average_score = sum(exam_scores)/num_students\n",
    "    height_score = max(exam_scores)\n",
    "    lowest_score = min(exam_scores)\n",
    "\n",
    "    num_passed =0\n",
    "    for score in exam_scores:\n",
    "        if score>=80:\n",
    "            num_passed = num_passed+1\n",
    "\n",
    "    num_failed = num_students- numpassed\n",
    "    return average_score,highest_score,lowest_score,num_passed,num_failed\n",
    "\n",
    "exam_scores =[85,92,78,90,88,95,82,79,87,91]\n",
    "average_score,highest_score,lowest_score,num_passed,num_failed =calculate\n",
    "\n",
    "print(\"the average score is \",average_score)\n",
    "print((\"the highest score is \",highest_score)\n",
    "      "
   ]
  },
  {
   "cell_type": "code",
   "execution_count": null,
   "id": "5a14715d-6bde-4ea3-a698-20f33b6b03f6",
   "metadata": {},
   "outputs": [],
   "source": []
  }
 ],
 "metadata": {
  "kernelspec": {
   "display_name": "Python 3 (ipykernel)",
   "language": "python",
   "name": "python3"
  },
  "language_info": {
   "codemirror_mode": {
    "name": "ipython",
    "version": 3
   },
   "file_extension": ".py",
   "mimetype": "text/x-python",
   "name": "python",
   "nbconvert_exporter": "python",
   "pygments_lexer": "ipython3",
   "version": "3.12.7"
  }
 },
 "nbformat": 4,
 "nbformat_minor": 5
}
