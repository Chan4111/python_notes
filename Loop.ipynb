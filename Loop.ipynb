{
 "cells": [
  {
   "cell_type": "markdown",
   "id": "883f6ed7-7ed4-405d-812d-a1a31c540722",
   "metadata": {},
   "source": [
    "## while loop"
   ]
  },
  {
   "cell_type": "code",
   "execution_count": 2,
   "id": "97b2b061-eff8-48bd-a9d0-45716bc9c8b7",
   "metadata": {},
   "outputs": [
    {
     "name": "stdout",
     "output_type": "stream",
     "text": [
      "1\n",
      "2\n",
      "3\n",
      "4\n",
      "5\n"
     ]
    }
   ],
   "source": [
    "count=1\n",
    "while(count<=5):\n",
    "    print(count)\n",
    "    count=count+1"
   ]
  },
  {
   "cell_type": "markdown",
   "id": "b9cf1da0-2aa0-4743-8c98-445db0780521",
   "metadata": {},
   "source": [
    "#### write a Python program to print all the even numbers between 1 to 50 using while loop "
   ]
  },
  {
   "cell_type": "code",
   "execution_count": 1,
   "id": "7b9e43cd-9619-44be-b748-7c1a96e25317",
   "metadata": {},
   "outputs": [
    {
     "name": "stdout",
     "output_type": "stream",
     "text": [
      "2\n",
      "4\n",
      "6\n",
      "8\n",
      "10\n",
      "12\n",
      "14\n",
      "16\n",
      "18\n",
      "20\n",
      "22\n",
      "24\n",
      "26\n",
      "28\n",
      "30\n",
      "32\n",
      "34\n",
      "36\n",
      "38\n",
      "40\n",
      "42\n",
      "44\n",
      "46\n",
      "48\n",
      "50\n"
     ]
    }
   ],
   "source": [
    "num=1\n",
    "while(num<=50):\n",
    "    if(num%2==0):\n",
    "        print(num)\n",
    "    num=num+1"
   ]
  },
  {
   "cell_type": "code",
   "execution_count": null,
   "id": "c9fc4881-ddd9-4778-b68e-be6ca48f394d",
   "metadata": {},
   "outputs": [],
   "source": [
    "email=input(\"Enter your mail id\")\n",
    "\n",
    "valid_email=False\n",
    "while(not valid_email):\n",
    "    if('@' in email and \".\" in email):\n",
    "        print(\"Your email id is valid\")\n",
    "        valid_mail=True\n",
    "    else:\n",
    "        print(\"Your mail id is not valid,try again\")\n",
    "        email=input(\"please enter your  mail id\")\n",
    "    \n"
   ]
  },
  {
   "cell_type": "markdown",
   "id": "51496ff6-e36b-4524-a37c-1fc1bbfaa0ba",
   "metadata": {},
   "source": [
    "### for loop"
   ]
  },
  {
   "cell_type": "markdown",
   "id": "d12fa89a-e5ff-4540-b495-0458a754fc2b",
   "metadata": {},
   "source": [
    "##### in Python ,a for loop is used to iterate over a sequence(such as a List,tuple,dictionary, or range)and finte iteration of code"
   ]
  },
  {
   "cell_type": "code",
   "execution_count": 2,
   "id": "7c931b14-16ae-44ad-9646-b3c015f5d454",
   "metadata": {},
   "outputs": [
    {
     "name": "stdout",
     "output_type": "stream",
     "text": [
      "1\n",
      "2\n",
      "3\n",
      "4\n",
      "5\n"
     ]
    }
   ],
   "source": [
    "number= [1,2,3,4,5]\n",
    "for i in number:\n",
    " print(i)\n",
    "    "
   ]
  },
  {
   "cell_type": "code",
   "execution_count": 3,
   "id": "046efd16-0da5-41b0-8357-378fe084ffe3",
   "metadata": {},
   "outputs": [
    {
     "name": "stdout",
     "output_type": "stream",
     "text": [
      "s\n",
      "t\n",
      "u\n",
      "d\n",
      "e\n",
      "n\n",
      "t\n"
     ]
    }
   ],
   "source": [
    "n=\"student\"\n",
    "for i in n:\n",
    "    print(i)"
   ]
  },
  {
   "cell_type": "code",
   "execution_count": 4,
   "id": "133b81ed-4782-41e3-aafe-f8ab1677ce93",
   "metadata": {},
   "outputs": [
    {
     "name": "stdout",
     "output_type": "stream",
     "text": [
      "0\n",
      "1\n",
      "2\n",
      "3\n",
      "4\n",
      "5\n",
      "6\n",
      "7\n",
      "8\n",
      "9\n",
      "10\n"
     ]
    }
   ],
   "source": [
    "for i in range(11):\n",
    "    print(i)"
   ]
  },
  {
   "cell_type": "code",
   "execution_count": 5,
   "id": "4d6aef54-730d-45e5-aca3-d976940dad4a",
   "metadata": {},
   "outputs": [
    {
     "name": "stdout",
     "output_type": "stream",
     "text": [
      "0\n",
      "1\n",
      "2\n",
      "3\n",
      "4\n",
      "5\n",
      "6\n",
      "7\n",
      "8\n",
      "9\n",
      "10\n",
      "11\n",
      "12\n",
      "13\n",
      "14\n",
      "15\n",
      "16\n",
      "17\n",
      "18\n",
      "19\n",
      "20\n",
      "21\n",
      "22\n",
      "23\n",
      "24\n",
      "25\n"
     ]
    }
   ],
   "source": [
    "for i in range(26):\n",
    "    print(i)"
   ]
  },
  {
   "cell_type": "code",
   "execution_count": 6,
   "id": "cd0b227a-e36b-4bd8-942e-82d0d9bbb346",
   "metadata": {},
   "outputs": [
    {
     "name": "stdout",
     "output_type": "stream",
     "text": [
      "5\n",
      "6\n",
      "7\n",
      "8\n",
      "9\n",
      "10\n",
      "11\n",
      "12\n",
      "13\n",
      "14\n",
      "15\n",
      "16\n",
      "17\n",
      "18\n",
      "19\n",
      "20\n",
      "21\n",
      "22\n",
      "23\n",
      "24\n",
      "25\n"
     ]
    }
   ],
   "source": [
    "for x in range(5,26):\n",
    "    print(x)"
   ]
  },
  {
   "cell_type": "markdown",
   "id": "d4471daf-a669-40a3-a467-81ee5859bed1",
   "metadata": {},
   "source": [
    "### for loop and if condition"
   ]
  },
  {
   "cell_type": "code",
   "execution_count": 11,
   "id": "f7e57263-1db4-40e8-89ae-51064de8d0b5",
   "metadata": {},
   "outputs": [
    {
     "name": "stdout",
     "output_type": "stream",
     "text": [
      "the number is even 0\n",
      "the number is odd 1\n",
      "the number is even 2\n",
      "the number is odd 3\n",
      "the number is even 4\n",
      "the number is odd 5\n",
      "the number is even 6\n",
      "the number is odd 7\n",
      "the number is even 8\n",
      "the number is odd 9\n",
      "the number is even 10\n",
      "the number is odd 11\n",
      "the number is even 12\n",
      "the number is odd 13\n",
      "the number is even 14\n",
      "the number is odd 15\n",
      "the number is even 16\n",
      "the number is odd 17\n",
      "the number is even 18\n",
      "the number is odd 19\n",
      "the number is even 20\n",
      "the number is odd 21\n",
      "the number is even 22\n",
      "the number is odd 23\n",
      "the number is even 24\n",
      "the number is odd 25\n"
     ]
    }
   ],
   "source": [
    "for y in range(26):\n",
    "    if(y%2==0):\n",
    "        print(\"the number is even\",y)\n",
    "    else:\n",
    "        print(\"the number is odd\",y)"
   ]
  },
  {
   "cell_type": "code",
   "execution_count": null,
   "id": "91f5541a-2f7c-443b-8d0b-d61000a6c545",
   "metadata": {},
   "outputs": [],
   "source": [
    "a=int(input(\"Enter a number to generate its multiplication table\"))\n",
    "print(\"the multiplication table of\",a)\n",
    "\n",
    "for i in range(1,11):\n",
    "    print(f\"(a)*{i} = {a*i}\")\n",
    "    "
   ]
  },
  {
   "cell_type": "markdown",
   "id": "3a896332-6a4d-4194-a063-ab5c47c6ab37",
   "metadata": {},
   "source": [
    "num_items = int(input(\"enter the number of items purchased\"))\n",
    "total_price=0\n",
    "\n",
    "for i in range(num_items):\n",
    "    price=float(input(\"enter the price of the items\"))\n",
    "    total_price= total_price + price\n",
    "    i=i+1\n",
    "\n",
    "if total_price >= 100:\n",
    "    discount = 0.1*total_price\n",
    "elif 50<=total_price<100:\n",
    "    discount =0.5*total_price\n",
    "else:\n",
    "    discount =0\n",
    "\n",
    "total_bill = total_price-discount\n",
    "print(\"subtotal\",total_bill)"
   ]
  },
  {
   "cell_type": "markdown",
   "id": "11d07ea7-ea21-4dd0-9081-f6a188e3ede7",
   "metadata": {},
   "source": [
    "### break statment"
   ]
  },
  {
   "cell_type": "markdown",
   "id": "7b15884e-868d-4eb0-8f20-bf4f91ba584b",
   "metadata": {},
   "source": [
    "###### we can use the break statement with the loop to terminate the loop when a certain condition is met"
   ]
  },
  {
   "cell_type": "code",
   "execution_count": 2,
   "id": "de6c1e5b-ed0c-4198-bddf-6f46135acce3",
   "metadata": {},
   "outputs": [
    {
     "name": "stdout",
     "output_type": "stream",
     "text": [
      "0\n",
      "1\n",
      "2\n"
     ]
    }
   ],
   "source": [
    "for i in range(5):\n",
    "    if i==3:\n",
    "        break\n",
    "    print(i)"
   ]
  },
  {
   "cell_type": "markdown",
   "id": "63794c96-49af-4676-9c94-ff3850a5383d",
   "metadata": {},
   "source": [
    "### Continue statement"
   ]
  },
  {
   "cell_type": "markdown",
   "id": "0a38851a-3c39-4cd1-88d9-eb56785a1bfc",
   "metadata": {},
   "source": [
    "###### the continue statement is used to skip the current iteration of the loop and the control flow of the program goes to the next iteration."
   ]
  },
  {
   "cell_type": "code",
   "execution_count": 3,
   "id": "e4b347ff-9d47-464f-bab7-2dfc6aa026d1",
   "metadata": {},
   "outputs": [
    {
     "name": "stdout",
     "output_type": "stream",
     "text": [
      "0\n",
      "1\n",
      "2\n",
      "4\n",
      "i am learing python\n"
     ]
    }
   ],
   "source": [
    "for i in range(5):\n",
    "    if i==3:\n",
    "        continue\n",
    "    print(i)\n",
    "print(\"i am learing python\")"
   ]
  },
  {
   "cell_type": "code",
   "execution_count": null,
   "id": "38a67435-5915-4525-9e75-b7776015cc01",
   "metadata": {},
   "outputs": [],
   "source": []
  }
 ],
 "metadata": {
  "kernelspec": {
   "display_name": "Python 3 (ipykernel)",
   "language": "python",
   "name": "python3"
  },
  "language_info": {
   "codemirror_mode": {
    "name": "ipython",
    "version": 3
   },
   "file_extension": ".py",
   "mimetype": "text/x-python",
   "name": "python",
   "nbconvert_exporter": "python",
   "pygments_lexer": "ipython3",
   "version": "3.12.7"
  }
 },
 "nbformat": 4,
 "nbformat_minor": 5
}
