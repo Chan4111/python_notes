{
 "cells": [
  {
   "cell_type": "markdown",
   "id": "f8c581fd-694d-4fff-b48d-848f526b808c",
   "metadata": {},
   "source": [
    "# ControlFlow statement"
   ]
  },
  {
   "cell_type": "markdown",
   "id": "af2a3c9d-e17f-4e16-8608-4ca6339cf89b",
   "metadata": {},
   "source": [
    "## conditional statements in python"
   ]
  },
  {
   "cell_type": "markdown",
   "id": "57877266-800b-4641-876e-1dcf85631664",
   "metadata": {},
   "source": [
    "### if Statement"
   ]
  },
  {
   "cell_type": "code",
   "execution_count": 2,
   "id": "dca9642e-efde-4411-a93e-767431f7046d",
   "metadata": {},
   "outputs": [
    {
     "name": "stdout",
     "output_type": "stream",
     "text": [
      "condition is false\n"
     ]
    }
   ],
   "source": [
    "i=20\n",
    "if i<10:\n",
    "    print(\"20 is greater than 10\")\n",
    "print(\"condition is false\")"
   ]
  },
  {
   "cell_type": "code",
   "execution_count": 12,
   "id": "349e6d9a-da97-41b4-b807-ba703a126fef",
   "metadata": {},
   "outputs": [
    {
     "name": "stdin",
     "output_type": "stream",
     "text": [
      "Enter the value of temperature by the user: 25\n"
     ]
    },
    {
     "name": "stdout",
     "output_type": "stream",
     "text": [
      "temperature is Convinient\n"
     ]
    }
   ],
   "source": [
    "tem = float(input(\"Enter the value of temperature by the user:\"))\n",
    "if(tem<15):\n",
    "    print(\"temperature is not Convinient\")\n",
    "if(24<tem<28):\n",
    "    print(\"temperature is Convinient\")"
   ]
  },
  {
   "cell_type": "markdown",
   "id": "12371a53-cc0d-42fe-a9d6-1cbbab133869",
   "metadata": {},
   "source": [
    "### if-else statement"
   ]
  },
  {
   "cell_type": "code",
   "execution_count": 14,
   "id": "aade9ec6-dad6-473d-982e-e656d80aa0aa",
   "metadata": {},
   "outputs": [
    {
     "name": "stdin",
     "output_type": "stream",
     "text": [
      "Enter your age: 12\n"
     ]
    },
    {
     "name": "stdout",
     "output_type": "stream",
     "text": [
      "your are note eligible to vote\n"
     ]
    }
   ],
   "source": [
    "age= int(input(\"Enter your age:\"))\n",
    "if(age>18):\n",
    "    print(\" Your are eligible to vote\")\n",
    "else:\n",
    "    print(\"your are note eligible to vote\")"
   ]
  },
  {
   "cell_type": "code",
   "execution_count": 17,
   "id": "93d6697b-9db0-4ea6-ba09-b8ccc347e178",
   "metadata": {},
   "outputs": [
    {
     "name": "stdin",
     "output_type": "stream",
     "text": [
      "Entyer your base salary : 50000\n",
      "Enter your year of service 6\n"
     ]
    },
    {
     "name": "stdout",
     "output_type": "stream",
     "text": [
      "your will get net salary 48000.0\n"
     ]
    }
   ],
   "source": [
    "base_salary=float(input(\"Entyer your base salary :\"))\n",
    "year_of_service=int(input(\"Enter your year of service\"))\n",
    "\n",
    "if (year_of_service>5):\n",
    "    total_salary= base_salary +(0.08*base_salary)-(0.12*base_salary)\n",
    "    print(\"your will get net salary\",total_salary)\n",
    "else:\n",
    "    net_salary= base_salary-(0.12*base_salary)\n",
    "    print(\"your net salary is\",net_salary)"
   ]
  },
  {
   "cell_type": "markdown",
   "id": "e964cbcb-4180-490c-856f-5413fbd552b2",
   "metadata": {},
   "source": [
    "### if elif else statement"
   ]
  },
  {
   "cell_type": "code",
   "execution_count": 24,
   "id": "ee6c6e42-6dfe-471f-bb1d-3997eb357e48",
   "metadata": {},
   "outputs": [
    {
     "name": "stdin",
     "output_type": "stream",
     "text": [
      "Enter your famous city: darbhanga\n"
     ]
    },
    {
     "name": "stdout",
     "output_type": "stream",
     "text": [
      "Not more record are found in hera\n"
     ]
    }
   ],
   "source": [
    "city=input(\"Enter your famous city:\")\n",
    "\n",
    "if(city=='mumbai'):\n",
    "    print(\"Getway of India\")\n",
    "\n",
    "elif(city=='kolkata'):\n",
    "    print(\"Victoria memorial\")\n",
    "\n",
    "elif(city=='Chennai'):\n",
    "    print(\"Marina Beach\")\n",
    "\n",
    "elif(city=='Bangalore'):\n",
    "    print(\"Botanical Garden\")\n",
    "\n",
    "elif(city=='pune'):\n",
    "    print(\"shaniwar wada\")\n",
    "\n",
    "else:\n",
    "    print(\"Not more record are found in hera\")"
   ]
  },
  {
   "cell_type": "code",
   "execution_count": null,
   "id": "fcf8156f-2792-4de6-a897-f26390c3b74a",
   "metadata": {},
   "outputs": [],
   "source": []
  }
 ],
 "metadata": {
  "kernelspec": {
   "display_name": "Python 3 (ipykernel)",
   "language": "python",
   "name": "python3"
  },
  "language_info": {
   "codemirror_mode": {
    "name": "ipython",
    "version": 3
   },
   "file_extension": ".py",
   "mimetype": "text/x-python",
   "name": "python",
   "nbconvert_exporter": "python",
   "pygments_lexer": "ipython3",
   "version": "3.12.7"
  }
 },
 "nbformat": 4,
 "nbformat_minor": 5
}
