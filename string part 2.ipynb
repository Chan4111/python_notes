{
 "cells": [
  {
   "cell_type": "markdown",
   "id": "7d570c78-3e82-4508-b4a1-8dd11befba9a",
   "metadata": {},
   "source": [
    "## lecture 13\n",
    "#### String-part 2\n",
    "##### length-method"
   ]
  },
  {
   "cell_type": "code",
   "execution_count": 1,
   "id": "7d86a598-af99-410a-a58d-814fdf884245",
   "metadata": {},
   "outputs": [
    {
     "name": "stdout",
     "output_type": "stream",
     "text": [
      "7\n"
     ]
    }
   ],
   "source": [
    "s= \"chandan\"\n",
    "print(len(s))"
   ]
  },
  {
   "cell_type": "code",
   "execution_count": 2,
   "id": "71e5acbd-02e0-46f5-b850-447b440f9bf6",
   "metadata": {},
   "outputs": [
    {
     "name": "stdout",
     "output_type": "stream",
     "text": [
      "9\n"
     ]
    }
   ],
   "source": [
    "s= \"theiscale\"\n",
    "print(len(s))"
   ]
  },
  {
   "cell_type": "code",
   "execution_count": 4,
   "id": "5f7b46a9-b4f7-451a-94ba-2fce1011f959",
   "metadata": {},
   "outputs": [
    {
     "name": "stdout",
     "output_type": "stream",
     "text": [
      "10\n"
     ]
    }
   ],
   "source": [
    "s= \"the iscale\"\n",
    "print(len(s))"
   ]
  },
  {
   "cell_type": "code",
   "execution_count": 5,
   "id": "28f7e0ee-f763-4483-83e3-b18750075f2d",
   "metadata": {},
   "outputs": [
    {
     "name": "stdout",
     "output_type": "stream",
     "text": [
      "0\n"
     ]
    }
   ],
   "source": [
    "s=\"\"\n",
    "print(len(s))"
   ]
  },
  {
   "cell_type": "code",
   "execution_count": 6,
   "id": "ce26f08b-8026-407b-82bb-58bc3730f3bc",
   "metadata": {},
   "outputs": [
    {
     "name": "stdout",
     "output_type": "stream",
     "text": [
      "2\n"
     ]
    }
   ],
   "source": [
    "s=\"  \"\n",
    "print(len(s))"
   ]
  },
  {
   "cell_type": "markdown",
   "id": "127947f0-e25c-4376-85fc-16dc3425d393",
   "metadata": {},
   "source": [
    "##### string with special symbol"
   ]
  },
  {
   "cell_type": "code",
   "execution_count": 7,
   "id": "bb8b33f4-962a-43fe-a2bc-fd755b87970b",
   "metadata": {},
   "outputs": [
    {
     "name": "stdout",
     "output_type": "stream",
     "text": [
      "hello\n",
      "world\n",
      "11\n"
     ]
    }
   ],
   "source": [
    "str=\"hello\\nworld\"\n",
    "print(str)\n",
    "print(len(str))"
   ]
  },
  {
   "cell_type": "code",
   "execution_count": 8,
   "id": "514b7d69-58a0-43c3-b59b-598ed7f4582a",
   "metadata": {},
   "outputs": [
    {
     "name": "stdout",
     "output_type": "stream",
     "text": [
      "chandan@thakur\n",
      "14\n"
     ]
    }
   ],
   "source": [
    "str=\"chandan@thakur\"\n",
    "print(str)\n",
    "print(len(str))"
   ]
  },
  {
   "cell_type": "code",
   "execution_count": 9,
   "id": "be3b9988-d176-494d-b9ad-ac016abd9df6",
   "metadata": {},
   "outputs": [
    {
     "name": "stdout",
     "output_type": "stream",
     "text": [
      "hello\n",
      "world\n",
      "11\n"
     ]
    }
   ],
   "source": [
    "s=\"\"\"hello\n",
    "world\"\"\"\n",
    "print(s)\n",
    "print(len(s))"
   ]
  },
  {
   "cell_type": "code",
   "execution_count": 10,
   "id": "12bd9ad9-6b3f-46c2-bf9e-d92c4eb3d774",
   "metadata": {},
   "outputs": [
    {
     "name": "stdout",
     "output_type": "stream",
     "text": [
      "256\n"
     ]
    }
   ],
   "source": [
    "a=\"Article One of the Constitution of the United States establishes the legislative branch of the federal government, the United States Congress. Under Article One, Congress is a bicameral legislature consisting of the House of Representatives and the Senate.\"\n",
    "print(len(a))"
   ]
  },
  {
   "cell_type": "markdown",
   "id": "a6ed41c2-73f0-4dcd-a680-76cce567a898",
   "metadata": {},
   "source": [
    "### Python-modify strings\n",
    "##### upper method"
   ]
  },
  {
   "cell_type": "code",
   "execution_count": 11,
   "id": "8b6915a1-0e78-4595-9dc3-0914ef0759fb",
   "metadata": {},
   "outputs": [
    {
     "name": "stdout",
     "output_type": "stream",
     "text": [
      " THIS IS CHANDAN\n"
     ]
    }
   ],
   "source": [
    "s=\" this is chandan\"\n",
    "print(s.upper())"
   ]
  },
  {
   "cell_type": "code",
   "execution_count": 12,
   "id": "967f2224-4406-40a3-ac0f-9548e04b6418",
   "metadata": {},
   "outputs": [
    {
     "name": "stdout",
     "output_type": "stream",
     "text": [
      " THIS IS CHANDAN\n"
     ]
    }
   ],
   "source": [
    "s=\" THIS is chandan\"\n",
    "print(s.upper())"
   ]
  },
  {
   "cell_type": "code",
   "execution_count": 13,
   "id": "8548125d-56cb-4aca-bb94-4231300dba75",
   "metadata": {},
   "outputs": [
    {
     "name": "stdout",
     "output_type": "stream",
     "text": [
      " THIS IS CHANDAN 1234\n"
     ]
    }
   ],
   "source": [
    "s=\" this is chandan 1234\"\n",
    "print(s.upper())"
   ]
  },
  {
   "cell_type": "markdown",
   "id": "64411e92-1e1b-47a2-a2d5-bf939f3264bb",
   "metadata": {},
   "source": [
    "##### lower method"
   ]
  },
  {
   "cell_type": "code",
   "execution_count": 14,
   "id": "90e07090-945d-4028-8dc7-25a3077e3b8f",
   "metadata": {},
   "outputs": [
    {
     "name": "stdout",
     "output_type": "stream",
     "text": [
      "I AM CHANDAN\n",
      "this is my python class\n"
     ]
    }
   ],
   "source": [
    "a=\"i am chandan\"\n",
    "print(a.upper())\n",
    "\n",
    "b=\"THIS IS MY PYTHON CLASS\"\n",
    "print(b.lower())"
   ]
  },
  {
   "cell_type": "code",
   "execution_count": 15,
   "id": "b4524d93-ba5c-499a-8d2f-1fe833a8b6d5",
   "metadata": {},
   "outputs": [
    {
     "name": "stdout",
     "output_type": "stream",
     "text": [
      "ARTICLE ONE OF THE CONSTITUTION OF THE UNITED STATES ESTABLISHES THE LEGISLATIVE BRANCH OF THE FEDERAL GOVERNMENT, THE UNITED STATES CONGRESS. UNDER ARTICLE ONE, CONGRESS IS A BICAMERAL LEGISLATURE CONSISTING OF THE HOUSE OF REPRESENTATIVES AND THE SENATE\n"
     ]
    }
   ],
   "source": [
    "b=\"Article One of the Constitution of the United States establishes the legislative branch of the federal government, the United States Congress. Under Article One, Congress is a bicameral legislature consisting of the House of Representatives and the Senate\"\n",
    "print(b.upper())"
   ]
  },
  {
   "cell_type": "code",
   "execution_count": 16,
   "id": "279adc91-3560-48fc-be55-f34ab2d45305",
   "metadata": {},
   "outputs": [
    {
     "name": "stdout",
     "output_type": "stream",
     "text": [
      "article one of the constitution of the united states establishes the legislative branch of the federal government, the united states congress. under article one, congress is a bicameral legislature consisting of the house of representatives and the senate\n"
     ]
    }
   ],
   "source": [
    "print(b.lower())"
   ]
  },
  {
   "cell_type": "markdown",
   "id": "f90fe1a9-ae5f-473e-910d-3e4e0c29dc37",
   "metadata": {},
   "source": [
    "##### string concatenation"
   ]
  },
  {
   "cell_type": "code",
   "execution_count": 18,
   "id": "f9fdcaee-9a38-42d3-891b-28c8474f7805",
   "metadata": {},
   "outputs": [
    {
     "name": "stdout",
     "output_type": "stream",
     "text": [
      "chandan thakur\n"
     ]
    }
   ],
   "source": [
    "a=\"chandan\"\n",
    "b=\"thakur\"\n",
    "print(a+\" \"+b)"
   ]
  },
  {
   "cell_type": "code",
   "execution_count": 19,
   "id": "73cee241-9880-4d51-b074-b55df1a6aa4e",
   "metadata": {},
   "outputs": [
    {
     "name": "stdout",
     "output_type": "stream",
     "text": [
      "chandanchandanchandanchandanchandan\n"
     ]
    }
   ],
   "source": [
    "a=\"chandan\"\n",
    "print(a*5)"
   ]
  },
  {
   "cell_type": "markdown",
   "id": "9b8fa020-ee69-471e-9384-0cefaa7110c8",
   "metadata": {},
   "source": [
    "##### replace method"
   ]
  },
  {
   "cell_type": "code",
   "execution_count": 24,
   "id": "c3b19ad1-98b4-4d73-8952-e8f3c587d585",
   "metadata": {},
   "outputs": [
    {
     "name": "stdout",
     "output_type": "stream",
     "text": [
      "Hello world,I am learner data science\n"
     ]
    }
   ],
   "source": [
    "text=\"Hello world,I am learner python\"\n",
    "rep= text.replace(\"python\",\"data science\")\n",
    "print(rep)"
   ]
  },
  {
   "cell_type": "code",
   "execution_count": 25,
   "id": "6eef9fe9-77f0-4b28-8441-2c371543b7c3",
   "metadata": {},
   "outputs": [
    {
     "name": "stdout",
     "output_type": "stream",
     "text": [
      "At the time of its creation,\n",
      "the Constitution did country not explicitly give citizens an inherent right to vote.\n",
      " However, by stipulating that those qualified to vote in elections\n",
      " for the largest chamber of a country legislature could vote in Congressional\n",
      " (House of Representatives) elections the Framers expressed a rather explicit\n",
      " intent country that the House was to be directly elected. Since the Civil War,\n",
      " several constitutional amendments have been enacted that have curbed the country' \n",
      "broad powers to set voter qualification standards\n"
     ]
    }
   ],
   "source": [
    "a=\"\"\"At the time of its creation,\n",
    "the Constitution did states not explicitly give citizens an inherent right to vote.\n",
    " However, by stipulating that those qualified to vote in elections\n",
    " for the largest chamber of a states legislature could vote in Congressional\n",
    " (House of Representatives) elections the Framers expressed a rather explicit\n",
    " intent states that the House was to be directly elected. Since the Civil War,\n",
    " several constitutional amendments have been enacted that have curbed the states' \n",
    "broad powers to set voter qualification standards\"\"\"\n",
    "rep=a.replace(\"states\",\"country\")\n",
    "print(rep)"
   ]
  },
  {
   "cell_type": "markdown",
   "id": "714208b3-7dbe-4302-9c80-c146aa21ead8",
   "metadata": {},
   "source": [
    "##### index method"
   ]
  },
  {
   "cell_type": "code",
   "execution_count": 27,
   "id": "5921777f-eb54-4bc5-9814-9bae5664af06",
   "metadata": {},
   "outputs": [
    {
     "name": "stdout",
     "output_type": "stream",
     "text": [
      "9\n"
     ]
    }
   ],
   "source": [
    "a=\"i am chandan\"\n",
    "print(a.index(\"dan\"))"
   ]
  },
  {
   "cell_type": "code",
   "execution_count": 29,
   "id": "de15a44d-3102-419f-8c99-3bee294b53e5",
   "metadata": {},
   "outputs": [
    {
     "name": "stdout",
     "output_type": "stream",
     "text": [
      "238\n"
     ]
    }
   ],
   "source": [
    "b=\"At the time of its creation, the Constitution did not explicitly give citizens an inherent right to vote.[17] However, by stipulating that those qualified to vote in elections for the largest chamber of a state's legislature could vote in Congressional (House of Representatives) elections the Framers\"\n",
    "print(b.index(\" Congressional\"))"
   ]
  },
  {
   "cell_type": "markdown",
   "id": "9a796180-2fba-4963-9c59-9374ad76baf8",
   "metadata": {},
   "source": [
    "##### find method"
   ]
  },
  {
   "cell_type": "code",
   "execution_count": 30,
   "id": "8e465846-c56b-4796-a0fa-eef22dcc7061",
   "metadata": {},
   "outputs": [
    {
     "name": "stdout",
     "output_type": "stream",
     "text": [
      "10\n"
     ]
    }
   ],
   "source": [
    "a=\"python is great\"\n",
    "b=a.find(\"g\")\n",
    "print(b)"
   ]
  },
  {
   "cell_type": "markdown",
   "id": "f81bad46-32fb-4840-a7ee-5b906fe8d66b",
   "metadata": {},
   "source": [
    "### practices question"
   ]
  },
  {
   "cell_type": "code",
   "execution_count": null,
   "id": "2130028c-9878-48bf-bda8-5d52e88e7454",
   "metadata": {},
   "outputs": [],
   "source": [
    "Write a python program that accomplishes the following tasks:\n",
    "1) Concatenate the string \"hello\" and \"world\"\n",
    "2) find the length of the resulting string from the concatenation.\n",
    "3) Extract the substring \"world\" from the concatenated string.\n",
    "4) Reverse the substring obtained in the previous step.\n",
    "5) Convert the reversed substring to uppercase.\n",
    "6) replace the letter 'L' with 'X' in the reversed and uppercase substring."
   ]
  },
  {
   "cell_type": "code",
   "execution_count": 31,
   "id": "9ee16816-4d5b-4180-94d4-97b74cc76d12",
   "metadata": {},
   "outputs": [
    {
     "name": "stdout",
     "output_type": "stream",
     "text": [
      "helloworld\n"
     ]
    }
   ],
   "source": [
    "con=\"hello\"+\"world\"\n",
    "print(con)"
   ]
  },
  {
   "cell_type": "code",
   "execution_count": 33,
   "id": "f52aef98-7955-490a-b3fa-8925ac98e7ca",
   "metadata": {},
   "outputs": [
    {
     "name": "stdout",
     "output_type": "stream",
     "text": [
      "10\n"
     ]
    }
   ],
   "source": [
    "print(len(con))"
   ]
  },
  {
   "cell_type": "code",
   "execution_count": 34,
   "id": "9c5444e0-9466-42cf-86c1-434d61f13dcf",
   "metadata": {},
   "outputs": [
    {
     "name": "stdout",
     "output_type": "stream",
     "text": [
      "world\n"
     ]
    }
   ],
   "source": [
    "substring= con[5:]\n",
    "print(substring)"
   ]
  },
  {
   "cell_type": "code",
   "execution_count": 36,
   "id": "0d4fa8d4-de76-449c-a841-5ea0f8eec3ac",
   "metadata": {},
   "outputs": [
    {
     "name": "stdout",
     "output_type": "stream",
     "text": [
      "dlrow\n"
     ]
    }
   ],
   "source": [
    "revers=substring[::-1]\n",
    "print(revers)"
   ]
  },
  {
   "cell_type": "code",
   "execution_count": 37,
   "id": "4474d701-07f6-4923-9f3d-18a0e591bf88",
   "metadata": {},
   "outputs": [
    {
     "name": "stdout",
     "output_type": "stream",
     "text": [
      "DLROW\n"
     ]
    }
   ],
   "source": [
    "uppercase=revers.upper()\n",
    "print(uppercase)"
   ]
  },
  {
   "cell_type": "code",
   "execution_count": 38,
   "id": "22aebb42-40ea-4982-8376-f349f13c832b",
   "metadata": {},
   "outputs": [
    {
     "name": "stdout",
     "output_type": "stream",
     "text": [
      "DXROW\n"
     ]
    }
   ],
   "source": [
    "modify=uppercase.replace(\"L\",\"X\")\n",
    "print(modify)"
   ]
  },
  {
   "cell_type": "code",
   "execution_count": null,
   "id": "818a7be8-d7fd-4485-bb65-6d9c9e7acebb",
   "metadata": {},
   "outputs": [],
   "source": []
  }
 ],
 "metadata": {
  "kernelspec": {
   "display_name": "Python 3 (ipykernel)",
   "language": "python",
   "name": "python3"
  },
  "language_info": {
   "codemirror_mode": {
    "name": "ipython",
    "version": 3
   },
   "file_extension": ".py",
   "mimetype": "text/x-python",
   "name": "python",
   "nbconvert_exporter": "python",
   "pygments_lexer": "ipython3",
   "version": "3.12.7"
  }
 },
 "nbformat": 4,
 "nbformat_minor": 5
}
