{
 "cells": [
  {
   "cell_type": "markdown",
   "id": "547a2b48-a17b-49b0-a0f2-3eb1502731da",
   "metadata": {},
   "source": [
    "# function"
   ]
  },
  {
   "cell_type": "markdown",
   "id": "502806eb-78f9-416e-b28c-35680ff85242",
   "metadata": {},
   "source": [
    "## built in function"
   ]
  },
  {
   "cell_type": "markdown",
   "id": "9daf17e5-618d-4470-a1ff-e6c2f059159c",
   "metadata": {},
   "source": [
    "### 1.Float function"
   ]
  },
  {
   "cell_type": "markdown",
   "id": "9b85a57f-ae15-4fbc-b2c8-1c23097b0b71",
   "metadata": {},
   "source": [
    "float function ka jo kam hota hai wo integer value ko float me convert krne ke liye use kya jata hai"
   ]
  },
  {
   "cell_type": "code",
   "execution_count": 1,
   "id": "5c773a39-1172-472d-987a-53949d0bad3d",
   "metadata": {},
   "outputs": [
    {
     "name": "stdout",
     "output_type": "stream",
     "text": [
      "<class 'int'>\n",
      "10.0\n",
      "<class 'float'>\n"
     ]
    }
   ],
   "source": [
    "num_int = 10\n",
    "print(type(num_int))\n",
    "a=float(num_int)\n",
    "print(a)\n",
    "print(type(a))"
   ]
  },
  {
   "cell_type": "code",
   "execution_count": 3,
   "id": "4fc154f4-af21-4340-bb0c-4497f4406a06",
   "metadata": {},
   "outputs": [
    {
     "name": "stdout",
     "output_type": "stream",
     "text": [
      "<class 'str'>\n",
      "3.14\n",
      "<class 'float'>\n"
     ]
    }
   ],
   "source": [
    "a=\"3.14\"\n",
    "print(type(a))\n",
    "b=float(a)\n",
    "print(b)\n",
    "print(type(b))"
   ]
  },
  {
   "cell_type": "code",
   "execution_count": 5,
   "id": "9f0d358b-25eb-4c85-8cec-d808923b18e0",
   "metadata": {},
   "outputs": [
    {
     "name": "stdout",
     "output_type": "stream",
     "text": [
      "684.0\n",
      "<class 'float'>\n"
     ]
    }
   ],
   "source": [
    "b=\"684\"\n",
    "c=float(b)\n",
    "print(c)\n",
    "print(type(c))"
   ]
  },
  {
   "cell_type": "markdown",
   "id": "4e90ded3-2c87-4dd6-b825-b6b23e9f9d0a",
   "metadata": {},
   "source": [
    "### 2.int function"
   ]
  },
  {
   "cell_type": "code",
   "execution_count": 6,
   "id": "cb1862c6-2352-4b92-a0d8-9e3f20d8de33",
   "metadata": {},
   "outputs": [
    {
     "name": "stdout",
     "output_type": "stream",
     "text": [
      "<class 'float'>\n",
      "684\n",
      "<class 'int'>\n"
     ]
    }
   ],
   "source": [
    "a=684.54\n",
    "print(type(a))\n",
    "b=int(a)\n",
    "print(b)\n",
    "print(type(b))"
   ]
  },
  {
   "cell_type": "code",
   "execution_count": 7,
   "id": "34ca3479-9f05-4fa8-82ab-91f424e463bb",
   "metadata": {},
   "outputs": [
    {
     "name": "stdout",
     "output_type": "stream",
     "text": [
      "<class 'str'>\n",
      "478\n",
      "<class 'int'>\n"
     ]
    }
   ],
   "source": [
    "a1=\"478\"\n",
    "print(type(a1))\n",
    "b1=int(a1)\n",
    "print(b1)\n",
    "print(type(b1))"
   ]
  },
  {
   "cell_type": "markdown",
   "id": "ae9eca43-f4b1-4c2c-b207-2ee83846f10b",
   "metadata": {},
   "source": [
    "### 3.str function"
   ]
  },
  {
   "cell_type": "code",
   "execution_count": 13,
   "id": "c666079a-be43-4a87-9833-b421d0e61fbf",
   "metadata": {},
   "outputs": [
    {
     "name": "stdout",
     "output_type": "stream",
     "text": [
      "<class 'int'>\n",
      "56\n",
      "<class 'str'>\n",
      "562\n",
      "58\n"
     ]
    }
   ],
   "source": [
    "a=56\n",
    "print(type(a))\n",
    "b=str(a)\n",
    "print(b)\n",
    "print(type(b))\n",
    "c=\"2\"\n",
    "print(b+c)\n",
    "print(a+2)"
   ]
  },
  {
   "cell_type": "code",
   "execution_count": 14,
   "id": "e3a3e3c9-df29-4ccd-a903-b1f83d212e02",
   "metadata": {},
   "outputs": [
    {
     "name": "stdout",
     "output_type": "stream",
     "text": [
      "<class 'float'>\n",
      "98.7\n",
      "<class 'str'>\n"
     ]
    }
   ],
   "source": [
    "x=98.7\n",
    "print(type(x))\n",
    "y=str(x)\n",
    "print(y)\n",
    "print(type(y))"
   ]
  },
  {
   "cell_type": "markdown",
   "id": "f10e5020-4cd7-49a4-b03f-c086f2e568a3",
   "metadata": {},
   "source": [
    "### 4.Complex function"
   ]
  },
  {
   "cell_type": "code",
   "execution_count": 16,
   "id": "18c03209-d43a-4b89-ac2c-0704bf86d1ec",
   "metadata": {},
   "outputs": [
    {
     "name": "stdout",
     "output_type": "stream",
     "text": [
      "(2+8j)\n"
     ]
    }
   ],
   "source": [
    "comp = complex(2,8)\n",
    "print(comp)"
   ]
  },
  {
   "cell_type": "code",
   "execution_count": 17,
   "id": "1d1ab728-e71b-4636-8758-0de69b4f6477",
   "metadata": {},
   "outputs": [
    {
     "name": "stdout",
     "output_type": "stream",
     "text": [
      "(98+45j)\n"
     ]
    }
   ],
   "source": [
    "y=complex(98,45)\n",
    "print(y)"
   ]
  },
  {
   "cell_type": "markdown",
   "id": "9dd77c57-dcb2-40a2-a917-ade775b4768e",
   "metadata": {},
   "source": [
    "### 5.abs function  "
   ]
  },
  {
   "cell_type": "code",
   "execution_count": 18,
   "id": "155c9454-a85e-4b56-9ead-80dea116e5aa",
   "metadata": {},
   "outputs": [
    {
     "name": "stdout",
     "output_type": "stream",
     "text": [
      "<class 'int'>\n",
      "65\n",
      "<class 'int'>\n"
     ]
    }
   ],
   "source": [
    "x= -65\n",
    "print(type(x))\n",
    "y=abs(x)\n",
    "print(y)\n",
    "print(type(y))"
   ]
  },
  {
   "cell_type": "code",
   "execution_count": 20,
   "id": "36da5399-3e5d-4d19-9971-c50cb7b05fa7",
   "metadata": {},
   "outputs": [
    {
     "name": "stdout",
     "output_type": "stream",
     "text": [
      "98.7\n"
     ]
    }
   ],
   "source": [
    "y=-98.7\n",
    "print(abs(y))"
   ]
  },
  {
   "cell_type": "code",
   "execution_count": 21,
   "id": "244c07d4-44b9-4544-ab96-2b6f861115f9",
   "metadata": {},
   "outputs": [
    {
     "name": "stdout",
     "output_type": "stream",
     "text": [
      "90.0499861188218\n"
     ]
    }
   ],
   "source": [
    "com= 78+45j\n",
    "print(abs(com))"
   ]
  },
  {
   "cell_type": "code",
   "execution_count": 22,
   "id": "52714597-86f2-45ed-8ca1-1c22ad6a4bf2",
   "metadata": {},
   "outputs": [
    {
     "name": "stdout",
     "output_type": "stream",
     "text": [
      "5.0\n"
     ]
    }
   ],
   "source": [
    "a=-3+4j\n",
    "print(abs(a))"
   ]
  },
  {
   "cell_type": "markdown",
   "id": "acef5ebb-5a03-4cc0-a0db-a42865edc356",
   "metadata": {},
   "source": [
    "### 6.len function"
   ]
  },
  {
   "cell_type": "code",
   "execution_count": 23,
   "id": "9d1bf60c-ded1-4dc2-9022-24f76ce09d3b",
   "metadata": {},
   "outputs": [
    {
     "name": "stdout",
     "output_type": "stream",
     "text": [
      "18\n"
     ]
    }
   ],
   "source": [
    "a= \"Hello i am chandan\"\n",
    "print(len(a))"
   ]
  },
  {
   "cell_type": "code",
   "execution_count": 24,
   "id": "dc4d5414-da07-415f-b3f6-3c1c31fcb009",
   "metadata": {},
   "outputs": [
    {
     "name": "stdout",
     "output_type": "stream",
     "text": [
      "7\n"
     ]
    }
   ],
   "source": [
    "b=\"cat dog\"\n",
    "print(len(b))"
   ]
  },
  {
   "cell_type": "code",
   "execution_count": 25,
   "id": "e19d66dc-12a3-4e02-852a-31b1438528b0",
   "metadata": {},
   "outputs": [
    {
     "name": "stdout",
     "output_type": "stream",
     "text": [
      "5\n"
     ]
    }
   ],
   "source": [
    "c= [54,87,97,57,35]\n",
    "print(len(c))"
   ]
  },
  {
   "cell_type": "markdown",
   "id": "2683e034-9254-4ecc-b57c-746a53fdca7e",
   "metadata": {},
   "source": [
    "###### question 1"
   ]
  },
  {
   "cell_type": "code",
   "execution_count": 26,
   "id": "e00a4673-c173-4064-a161-79077b8fc194",
   "metadata": {},
   "outputs": [
    {
     "name": "stdout",
     "output_type": "stream",
     "text": [
      "The play score is  1234\n"
     ]
    }
   ],
   "source": [
    "#play score is 1234.56\n",
    "player_score= 1234.56\n",
    "print(\"The play score is \", int(player_score))"
   ]
  },
  {
   "cell_type": "markdown",
   "id": "46c75921-801d-46d0-bcef-9a3b1254dd8e",
   "metadata": {},
   "source": [
    "###### question2"
   ]
  },
  {
   "cell_type": "code",
   "execution_count": 27,
   "id": "12e82d4e-6cba-46c9-930f-b0a73102397d",
   "metadata": {},
   "outputs": [
    {
     "name": "stdout",
     "output_type": "stream",
     "text": [
      "The total number of customers in the database is 3\n"
     ]
    }
   ],
   "source": [
    "customer_database = [\n",
    "      (1,'john Doe','johan@example.com'),\n",
    "      (2,'jane smith','jane@vjhfv.com'),\n",
    "      (3,'Alice Johnson', 'alice@example.com'),\n",
    "]\n",
    "print(\"The total number of customers in the database is\",len(customer_database))"
   ]
  },
  {
   "cell_type": "markdown",
   "id": "dc112351-3fb5-4e5f-85c3-709b9a86ba6b",
   "metadata": {},
   "source": [
    "###### question3"
   ]
  },
  {
   "cell_type": "code",
   "execution_count": 28,
   "id": "c6e20b64-caf0-4623-b14c-9521f20384c1",
   "metadata": {},
   "outputs": [
    {
     "name": "stdout",
     "output_type": "stream",
     "text": [
      "simple interest of the company is: 7009252.5\n"
     ]
    }
   ],
   "source": [
    "principal=250000\n",
    "time=3\n",
    "rate=9.34567\n",
    "si=(principal*rate*time)\n",
    "print(\"simple interest of the company is:\",si)"
   ]
  },
  {
   "cell_type": "markdown",
   "id": "0f93e380-7381-469c-a750-f1fd3c2f0c85",
   "metadata": {},
   "source": [
    "### 7.bin function"
   ]
  },
  {
   "cell_type": "code",
   "execution_count": null,
   "id": "9f447aa5-704a-4b2f-b987-a3c2cca4fe67",
   "metadata": {},
   "outputs": [],
   "source": [
    "The bin() function in python is used to\n",
    "convert an integers number to its binary representation as a string prefixed with 'ob'.\n",
    "it takes an integers as an argument and returns its binary reprentation"
   ]
  },
  {
   "cell_type": "code",
   "execution_count": 1,
   "id": "9decebcf-e86c-4b2f-b050-02bda8b9c313",
   "metadata": {},
   "outputs": [
    {
     "name": "stdout",
     "output_type": "stream",
     "text": [
      "0b100000100\n"
     ]
    }
   ],
   "source": [
    "binary_representation=bin(260)\n",
    "print(binary_representation)"
   ]
  },
  {
   "cell_type": "code",
   "execution_count": 31,
   "id": "2b288e5e-31c3-4705-a625-6edfabf95bb1",
   "metadata": {},
   "outputs": [
    {
     "name": "stdout",
     "output_type": "stream",
     "text": [
      "0b100\n",
      "0b11001000\n",
      "0b1000\n",
      "0b1011001\n"
     ]
    }
   ],
   "source": [
    "print(bin(4))\n",
    "print(bin(200))\n",
    "print(bin(8))\n",
    "print(bin(89))"
   ]
  },
  {
   "cell_type": "markdown",
   "id": "154d7236-c95b-4869-ba62-3e8bc8c135a7",
   "metadata": {},
   "source": [
    "### 8.Sum function"
   ]
  },
  {
   "cell_type": "raw",
   "id": "b57561b4-0756-46b1-a760-8e67f3f803d0",
   "metadata": {},
   "source": [
    "the sum() function in python is used to calculate the sum of thee element in an iterable ,such as lists ,tuple,and \n",
    "other iterable object"
   ]
  },
  {
   "cell_type": "code",
   "execution_count": 32,
   "id": "e5ce5850-bcf5-4ad8-b9a4-c424897f47b1",
   "metadata": {},
   "outputs": [
    {
     "name": "stdout",
     "output_type": "stream",
     "text": [
      "584\n"
     ]
    }
   ],
   "source": [
    "my_list=[4,5,8,7,12,36,48,96,12,35,78,12,11,22,33,44,55,66]\n",
    "a=sum(my_list)\n",
    "print(a)"
   ]
  },
  {
   "cell_type": "code",
   "execution_count": 34,
   "id": "f1cb48da-ae7f-497f-9132-b714affe5ae8",
   "metadata": {},
   "outputs": [
    {
     "name": "stdout",
     "output_type": "stream",
     "text": [
      "47\n"
     ]
    }
   ],
   "source": [
    "a=[1,5,7,9,8,4,6]\n",
    "strating_value=7\n",
    "total_value=sum(a,strating_value)\n",
    "print(total_value)"
   ]
  },
  {
   "cell_type": "code",
   "execution_count": 35,
   "id": "335ffb99-2181-4e6c-8d4d-c73a2bdcfbb7",
   "metadata": {},
   "outputs": [
    {
     "name": "stdout",
     "output_type": "stream",
     "text": [
      "15\n"
     ]
    }
   ],
   "source": [
    "a=[1,4,6]\n",
    "strating_value=4\n",
    "total_value=sum(a,strating_value)\n",
    "print(total_value)"
   ]
  },
  {
   "cell_type": "markdown",
   "id": "71d98588-8584-497c-80d3-7f6d673698bf",
   "metadata": {},
   "source": [
    "### 9.eval function"
   ]
  },
  {
   "cell_type": "markdown",
   "id": "7c0d58f3-bfcb-41c1-a359-1c980eb9c243",
   "metadata": {},
   "source": [
    "eval() : Evaluates a Python expression stored in a string"
   ]
  },
  {
   "cell_type": "markdown",
   "id": "7abf543b-2743-4951-a66b-cfdd07ccfa6a",
   "metadata": {},
   "source": [
    "x= 10\n",
    "y =5\n",
    "expression =\"x+y*2\"\n",
    "print(eval(expression))"
   ]
  },
  {
   "cell_type": "code",
   "execution_count": 38,
   "id": "6e829265-4031-4b37-a84a-8dc08c9a97f5",
   "metadata": {},
   "outputs": [
    {
     "name": "stdout",
     "output_type": "stream",
     "text": [
      "<class 'str'>\n",
      "6.0\n",
      "<class 'float'>\n"
     ]
    }
   ],
   "source": [
    " exp=\"5/2+3.5\"\n",
    "chandan=eval(exp)\n",
    "print(type(exp))\n",
    "print(chandan)\n",
    "print(type(chandan))"
   ]
  },
  {
   "cell_type": "code",
   "execution_count": 39,
   "id": "144bf3f8-aa65-4dca-9684-3278a1c57285",
   "metadata": {},
   "outputs": [
    {
     "name": "stdout",
     "output_type": "stream",
     "text": [
      "-3024.9999999999995\n"
     ]
    }
   ],
   "source": [
    "exp1=\"24+87-98*32/45%87*45\"\n",
    "print(eval(exp1))"
   ]
  },
  {
   "cell_type": "code",
   "execution_count": 44,
   "id": "51f40c88-5fc2-41d8-9854-99ec3c6ae301",
   "metadata": {},
   "outputs": [
    {
     "name": "stdout",
     "output_type": "stream",
     "text": [
      "1285.0\n"
     ]
    }
   ],
   "source": [
    "x=5\n",
    "y=2.5\n",
    "z=32\n",
    "exp= \"x+y*z/x*y*z\"\n",
    "print(eval(exp))"
   ]
  },
  {
   "cell_type": "markdown",
   "id": "446c7be6-2bc7-4895-99e2-da8030929ef6",
   "metadata": {},
   "source": [
    "### 10.Help function"
   ]
  },
  {
   "cell_type": "markdown",
   "id": "718b3381-a5b4-4ef1-a0e0-bd6eae26c221",
   "metadata": {},
   "source": [
    "The Python help function is used to display the documentation of modules, function, classes, keybords,etc"
   ]
  },
  {
   "cell_type": "code",
   "execution_count": 46,
   "id": "7e862276-170f-4f70-aa5c-101fd10c806c",
   "metadata": {},
   "outputs": [
    {
     "name": "stdout",
     "output_type": "stream",
     "text": [
      "Help on built-in function print in module builtins:\n",
      "\n",
      "print(*args, sep=' ', end='\\n', file=None, flush=False)\n",
      "    Prints the values to a stream, or to sys.stdout by default.\n",
      "\n",
      "    sep\n",
      "      string inserted between values, default a space.\n",
      "    end\n",
      "      string appended after the last value, default a newline.\n",
      "    file\n",
      "      a file-like object (stream); defaults to the current sys.stdout.\n",
      "    flush\n",
      "      whether to forcibly flush the stream.\n",
      "\n"
     ]
    }
   ],
   "source": [
    "help(print)"
   ]
  },
  {
   "cell_type": "code",
   "execution_count": 48,
   "id": "d373e76b-9e32-412e-9291-9e2a56eb9547",
   "metadata": {},
   "outputs": [
    {
     "name": "stdout",
     "output_type": "stream",
     "text": [
      "Help on built-in function sum in module builtins:\n",
      "\n",
      "sum(iterable, /, start=0)\n",
      "    Return the sum of a 'start' value (default: 0) plus an iterable of numbers\n",
      "\n",
      "    When the iterable is empty, return the start value.\n",
      "    This function is intended specifically for use with numeric values and may\n",
      "    reject non-numeric types.\n",
      "\n"
     ]
    }
   ],
   "source": [
    "help(sum)"
   ]
  },
  {
   "cell_type": "markdown",
   "id": "e7f25ade-a2f8-4856-a4d8-0c4aed63e4fb",
   "metadata": {},
   "source": [
    "## 11.Input function"
   ]
  },
  {
   "cell_type": "code",
   "execution_count": 53,
   "id": "2a392cad-c6d0-4bb3-8f1b-ceb3586e588d",
   "metadata": {},
   "outputs": [
    {
     "name": "stdin",
     "output_type": "stream",
     "text": [
      "enter your name chandan\n"
     ]
    },
    {
     "name": "stdout",
     "output_type": "stream",
     "text": [
      "name entered by user is chandan\n",
      "<class 'str'>\n"
     ]
    }
   ],
   "source": [
    "name= input(\"enter your name\")   # input function hamesa string value is bydefault rakhta hai\n",
    "print(\"name entered by user is\",name)\n",
    "print(type(name))"
   ]
  },
  {
   "cell_type": "code",
   "execution_count": 54,
   "id": "b0f4f06e-30ee-447f-aeb9-bc277705285f",
   "metadata": {},
   "outputs": [
    {
     "name": "stdin",
     "output_type": "stream",
     "text": [
      "enter your name 545\n"
     ]
    },
    {
     "name": "stdout",
     "output_type": "stream",
     "text": [
      "name entered by user is 545\n",
      "<class 'str'>\n"
     ]
    }
   ],
   "source": [
    "name= input(\"enter your name\")   # input function hamesa string value is bydefault rakhta hai\n",
    "print(\"name entered by user is\",name)\n",
    "print(type(name))"
   ]
  },
  {
   "cell_type": "markdown",
   "id": "5d112d4c-e94c-45cf-8336-bb8379a5a37e",
   "metadata": {},
   "source": [
    "##### practice Question "
   ]
  },
  {
   "cell_type": "markdown",
   "id": "ebc92c79-6873-4c9a-840d-dce6d64f5480",
   "metadata": {},
   "source": [
    "##### qestion 1"
   ]
  },
  {
   "cell_type": "code",
   "execution_count": null,
   "id": "caf6cf26-e8ad-4869-b13e-b43c368769b2",
   "metadata": {},
   "outputs": [],
   "source": [
    "get two number from the user and calculatee their sum"
   ]
  },
  {
   "cell_type": "code",
   "execution_count": 59,
   "id": "0c299d56-eb32-4312-9fee-872a76ba104d",
   "metadata": {},
   "outputs": [
    {
     "name": "stdin",
     "output_type": "stream",
     "text": [
      "Enter the value of first number 45\n",
      "Enter the value of second number 5\n"
     ]
    },
    {
     "name": "stdout",
     "output_type": "stream",
     "text": [
      "50\n"
     ]
    }
   ],
   "source": [
    "num1= input(\"Enter the value of first number\")\n",
    "num2 = input(\"Enter the value of second number\")\n",
    "a=int(num1)\n",
    "b=int(num2)\n",
    "sum=a+b\n",
    "print(sum)"
   ]
  },
  {
   "cell_type": "markdown",
   "id": "fd15bcf7-a1c0-462d-8c1e-baa5c9d90fe5",
   "metadata": {},
   "source": [
    "##### question 2"
   ]
  },
  {
   "cell_type": "code",
   "execution_count": 62,
   "id": "c7bccb3b-06ee-431e-8e15-585337abd508",
   "metadata": {},
   "outputs": [
    {
     "name": "stdin",
     "output_type": "stream",
     "text": [
      "Enter the age of user: -15\n",
      "Enter the weight of user: 60\n",
      "Enter the height of user 5.6\n"
     ]
    },
    {
     "name": "stdout",
     "output_type": "stream",
     "text": [
      "Basal Metabolic rate(BMR): 833.9014000000001\n"
     ]
    }
   ],
   "source": [
    "age = int(input(\"Enter the age of user:\"))\n",
    "weight =int(input(\"Enter the weight of user:\"))\n",
    "height =(input(\"Enter the height of user\"))\n",
    "Age=abs(age)\n",
    "Weight=abs(weight)\n",
    "Height=float(height)\n",
    "BMR=\"88.362+(13.397*Weight)+(4.799*Height)-(5.677*Age)\"\n",
    "print(\"Basal Metabolic rate(BMR):\",eval(BMR))"
   ]
  },
  {
   "cell_type": "markdown",
   "id": "9953e0f2-bf3d-44df-9f86-18269767cbde",
   "metadata": {},
   "source": [
    "##### question 3"
   ]
  },
  {
   "cell_type": "code",
   "execution_count": null,
   "id": "bf3d51d0-12c2-442b-9fb8-42d0eb231629",
   "metadata": {},
   "outputs": [],
   "source": [
    "write a python code for hostel students, ask them to mention thier course name and age.\n",
    "for 5 students and calculate their avg age"
   ]
  },
  {
   "cell_type": "code",
   "execution_count": 65,
   "id": "0d7f3a29-b6bc-489a-bba6-b44768b3044d",
   "metadata": {},
   "outputs": [
    {
     "name": "stdin",
     "output_type": "stream",
     "text": [
      "Enter the name of first student: chandan\n",
      "enter its ages also: 22\n",
      "Enter the name of secomd student: gulshan\n",
      "enter its ages also: 23\n",
      "Enter the name of third student: prashant\n",
      "enter its ages also 22\n",
      "Enter the name of fourth student: purushootam\n",
      "enter its ages also: 22\n",
      "Enter the name of fiveth student: nishant\n",
      "enter its ages also: 20\n"
     ]
    },
    {
     "name": "stdout",
     "output_type": "stream",
     "text": [
      "Average age of all five student is: 21.8\n"
     ]
    }
   ],
   "source": [
    "first=input(\"Enter the name of first student:\")\n",
    "age1=int(input(\"enter its ages also:\"))\n",
    "second=input(\"Enter the name of secomd student:\")\n",
    "age2=int(input(\"enter its ages also:\"))\n",
    "third=input(\"Enter the name of third student:\")\n",
    "age3=int(input(\"enter its ages also\"))\n",
    "fourth=input(\"Enter the name of fourth student:\")\n",
    "age4=int(input(\"enter its ages also:\"))\n",
    "five=input(\"Enter the name of fiveth student:\")\n",
    "age5=int(input(\"enter its ages also:\"))\n",
    "Average_age=\"(age1+age2+age3+age4+age5)/5\"\n",
    "print(\"Average age of all five student is:\",eval(Average_age))"
   ]
  },
  {
   "cell_type": "code",
   "execution_count": null,
   "id": "a1fa43cb-cecb-4529-a5ae-7fc10ab937a1",
   "metadata": {},
   "outputs": [],
   "source": []
  }
 ],
 "metadata": {
  "kernelspec": {
   "display_name": "Python 3 (ipykernel)",
   "language": "python",
   "name": "python3"
  },
  "language_info": {
   "codemirror_mode": {
    "name": "ipython",
    "version": 3
   },
   "file_extension": ".py",
   "mimetype": "text/x-python",
   "name": "python",
   "nbconvert_exporter": "python",
   "pygments_lexer": "ipython3",
   "version": "3.12.7"
  }
 },
 "nbformat": 4,
 "nbformat_minor": 5
}
